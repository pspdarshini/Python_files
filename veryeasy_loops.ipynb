{
 "cells": [
  {
   "cell_type": "markdown",
   "id": "9d10e3f1",
   "metadata": {},
   "source": [
    "# Very Easy(1-30)"
   ]
  },
  {
   "cell_type": "markdown",
   "id": "792089d2",
   "metadata": {},
   "source": [
    "Q1: Create a function that takes a base number and an exponent number and returns the calculation."
   ]
  },
  {
   "cell_type": "code",
   "execution_count": 1,
   "id": "1eba9ff3",
   "metadata": {},
   "outputs": [
    {
     "data": {
      "text/plain": [
       "3125"
      ]
     },
     "execution_count": 1,
     "metadata": {},
     "output_type": "execute_result"
    }
   ],
   "source": [
    "def exponentfunc(x,y):\n",
    "    result = x**y\n",
    "    return result\n",
    "exponentfunc(5,5)"
   ]
  },
  {
   "cell_type": "markdown",
   "id": "f0e5955e",
   "metadata": {},
   "source": [
    "Q2:Create a function that takes a list of numbers. Return the largest number in the list."
   ]
  },
  {
   "cell_type": "code",
   "execution_count": 3,
   "id": "a2cc3cb3",
   "metadata": {},
   "outputs": [
    {
     "data": {
      "text/plain": [
       "5000"
      ]
     },
     "execution_count": 3,
     "metadata": {},
     "output_type": "execute_result"
    }
   ],
   "source": [
    "def large(x):\n",
    "    x.sort()\n",
    "    largest = x[-1] \n",
    "    return largest\n",
    "\n",
    "large([300,500,5000])    "
   ]
  },
  {
   "cell_type": "markdown",
   "id": "1ff61468",
   "metadata": {},
   "source": [
    "Q3:Create a function that takes a list of numbers and returns the smallest number in the list."
   ]
  },
  {
   "cell_type": "code",
   "execution_count": 4,
   "id": "54a91bba",
   "metadata": {},
   "outputs": [
    {
     "data": {
      "text/plain": [
       "-1"
      ]
     },
     "execution_count": 4,
     "metadata": {},
     "output_type": "execute_result"
    }
   ],
   "source": [
    "def smallest(x):\n",
    "    x.sort()\n",
    "    smallest = x[0]\n",
    "    return smallest\n",
    "smallest([-1,2,3,4,1,0])"
   ]
  },
  {
   "cell_type": "markdown",
   "id": "28adcad4",
   "metadata": {},
   "source": [
    "Q4:Create a function that takes a list and returns the difference between the biggest and smallest numbers."
   ]
  },
  {
   "cell_type": "code",
   "execution_count": 5,
   "id": "d1e20c6d",
   "metadata": {},
   "outputs": [
    {
     "data": {
      "text/plain": [
       "100"
      ]
     },
     "execution_count": 5,
     "metadata": {},
     "output_type": "execute_result"
    }
   ],
   "source": [
    "def diff_small_large(x):\n",
    "    x.sort()\n",
    "    difference = x[-1] - x[0]\n",
    "    return difference\n",
    "diff_small_large([-1,-50,3,4,5,50])"
   ]
  },
  {
   "cell_type": "markdown",
   "id": "75805a86",
   "metadata": {},
   "source": [
    "Q5: Create a function that takes a list and returns the sum of all numbers in the list."
   ]
  },
  {
   "cell_type": "code",
   "execution_count": 6,
   "id": "16a7a780",
   "metadata": {},
   "outputs": [
    {
     "data": {
      "text/plain": [
       "100"
      ]
     },
     "execution_count": 6,
     "metadata": {},
     "output_type": "execute_result"
    }
   ],
   "source": [
    "def summation(x):\n",
    "    i = 0\n",
    "    summation = 0\n",
    "    while i <len(x):\n",
    "        summation += x[i]\n",
    "        i+=1\n",
    "    return summation\n",
    "\n",
    "summation([100,200,300,-500])"
   ]
  },
  {
   "cell_type": "markdown",
   "id": "3e2b30ed",
   "metadata": {},
   "source": [
    "Q6: Create a function that takes a number (from 1 - 60) and returns a corresponding string of hyphens."
   ]
  },
  {
   "cell_type": "code",
   "execution_count": 7,
   "id": "29994925",
   "metadata": {},
   "outputs": [
    {
     "data": {
      "text/plain": [
       "'------'"
      ]
     },
     "execution_count": 7,
     "metadata": {},
     "output_type": "execute_result"
    }
   ],
   "source": [
    "def hyphenprint(x):\n",
    "    result = \"-\"*x\n",
    "    return result\n",
    "hyphenprint(6)    "
   ]
  },
  {
   "cell_type": "markdown",
   "id": "2f5a40b2",
   "metadata": {},
   "source": [
    "Q7: Write a function that takes an integer and returns a string with the given number of \"a\"s in Edabit."
   ]
  },
  {
   "cell_type": "code",
   "execution_count": 8,
   "id": "664169d4",
   "metadata": {},
   "outputs": [
    {
     "data": {
      "text/plain": [
       "'edaaaaaabit'"
      ]
     },
     "execution_count": 8,
     "metadata": {},
     "output_type": "execute_result"
    }
   ],
   "source": [
    "def edabit(x):\n",
    "    result = 'ed'+ 'a'*x +'bit'\n",
    "    return result\n",
    "edabit(6)"
   ]
  },
  {
   "cell_type": "markdown",
   "id": "6f6abcc2",
   "metadata": {},
   "source": [
    "Q8: Create a function that returns True if all parameters are truthy, and False otherwise.\n",
    "Examples\n",
    "\n",
    "all_truthy(True, True, True) ➞ True\n",
    "\n",
    "all_truthy(True, False, True) ➞ False\n",
    "\n",
    "all_truthy(5, 4, 3, 2, 1, 0) ➞ False"
   ]
  },
  {
   "cell_type": "markdown",
   "id": "42d4d0aa",
   "metadata": {},
   "source": [
    "\n"
   ]
  },
  {
   "cell_type": "code",
   "execution_count": 9,
   "id": "afb438c8",
   "metadata": {},
   "outputs": [
    {
     "data": {
      "text/plain": [
       "0"
      ]
     },
     "execution_count": 9,
     "metadata": {},
     "output_type": "execute_result"
    }
   ],
   "source": [
    "#truthy falsy\n",
    "def is_truthy(val):\n",
    "    falsy = [None, 0, [], {}, \"\"]\n",
    "    i = 0\n",
    "    while i in range(len(val)):\n",
    "        if val[i] in falsy:\n",
    "            return 0\n",
    "        else:\n",
    "            i+=1\n",
    "    return 1\n",
    "\n",
    "is_truthy([False,\"\",True])"
   ]
  },
  {
   "cell_type": "markdown",
   "id": "575e82d1",
   "metadata": {},
   "source": [
    "Q9: Mubashir created an infinite loop! Help him by fixing the code in the code tab to pass this challenge. Look at the examples below to get an idea of what the function should do.\n",
    "Examples\n",
    "\n",
    "print_list(1) ➞ [1]\n",
    "\n",
    "print_list(3) ➞ [1, 2, 3]\n",
    "\n",
    "print_list(6) ➞ [1, 2, 3, 4, 5, 6]"
   ]
  },
  {
   "cell_type": "code",
   "execution_count": null,
   "id": "2f00e928",
   "metadata": {},
   "outputs": [],
   "source": [
    "def print_list(n):\n",
    "    result, i = [], 1\n",
    "    while i<=n:\n",
    "        result += [i]\n",
    "    return result\n",
    "print_list(6)"
   ]
  },
  {
   "cell_type": "markdown",
   "id": "abad9fb2",
   "metadata": {},
   "source": [
    "Q10: Create a function that returns the last value of the last item in a list or string.\n",
    "Examples\n",
    "\n",
    "last_ind([0, 4, 19, 34, 50, -9, 2]) ➞ 2\n",
    "\n",
    "last_ind(\"The quick brown fox jumped over the lazy dog\") ➞ \"g\"\n",
    "\n",
    "last_ind([]) ➞ None"
   ]
  },
  {
   "cell_type": "code",
   "execution_count": null,
   "id": "06f8cf28",
   "metadata": {},
   "outputs": [],
   "source": [
    "def lastreturn(x):\n",
    "    return x[-1]\n",
    "lastreturn ([1,2,3,4,4])\n",
    "lastreturn('swathi')"
   ]
  },
  {
   "cell_type": "markdown",
   "id": "88d6fc5b",
   "metadata": {},
   "source": [
    "Q11: You can assign variables from lists like this:\n",
    "\n",
    "first, _ , last = [1, 2, 8]\n",
    "\n",
    "first   = lst[0]\n",
    "\n",
    "_   = ignores second value (2)\n",
    "\n",
    "last   = lst[-1]\n",
    "\n",
    "print(first) ➞ outputs 1\n",
    "print(last) ➞ outputs 8\n",
    "\n",
    "Using Destructuring Assignment (check the Resources tab), your task is to unpack the list writeyourcodehere into three variables, first, a variable to ignore all middle values and last."
   ]
  },
  {
   "cell_type": "code",
   "execution_count": null,
   "id": "73178a48",
   "metadata": {},
   "outputs": [],
   "source": [
    "writeyourcodehere = [3, 5, 7, 9, 11]  # Replace this with the actual list you want to unpack\n",
    "\n",
    "first, *_ , last = writeyourcodehere\n",
    "\n",
    "print(first)  \n",
    "print(last)   "
   ]
  },
  {
   "cell_type": "markdown",
   "id": "49cce8fd",
   "metadata": {},
   "source": [
    "Q12: You must calculate the number of people there will be in three decades from now.\n",
    "\n",
    "    The variable P is the world population now.\n",
    "    Assume that every month, someone gives birth to more people nP.\n",
    "\n",
    "Return the number of people there will be when the spaceship is complete.\n",
    "Examples\n",
    "\n",
    "future_people(256, 2) ➞ 976\n",
    "\n",
    "future_people(3248, 6) ➞ 5408\n",
    "\n",
    "future_people(5240, 3) ➞ 6320"
   ]
  },
  {
   "cell_type": "code",
   "execution_count": null,
   "id": "0d80a6ae",
   "metadata": {},
   "outputs": [],
   "source": [
    "def popcalc(p,np):\n",
    "    population = p + (np*30*12)\n",
    "    return population\n",
    "popcalc(256,2)"
   ]
  },
  {
   "cell_type": "markdown",
   "id": "34f5ea19",
   "metadata": {},
   "source": [
    "Q13: Create a function that returns a number, based on the string provided. Here is a list of all digits:"
   ]
  },
  {
   "cell_type": "code",
   "execution_count": null,
   "id": "6f3cc750",
   "metadata": {},
   "outputs": [],
   "source": [
    "def word(s):\n",
    "    digits = {\n",
    "        \"zero\": 0,\n",
    "        \"one\": 1,\n",
    "        \"two\": 2,\n",
    "        \"three\": 3,\n",
    "        \"four\": 4,\n",
    "        \"five\": 5,\n",
    "        \"six\": 6,\n",
    "        \"seven\": 7,\n",
    "        \"eight\": 8,\n",
    "        \"nine\": 9\n",
    "    }\n",
    "\n",
    "    return digits.get(s.lower(), None)\n",
    "word(\"one\")"
   ]
  },
  {
   "cell_type": "markdown",
   "id": "92120173",
   "metadata": {},
   "source": [
    "Q15: Create a function that takes two strings as arguments and returns the number of times the first string (the single character) is found in the second string."
   ]
  },
  {
   "cell_type": "code",
   "execution_count": null,
   "id": "7723a26d",
   "metadata": {},
   "outputs": [],
   "source": [
    "def findchar(char,string):\n",
    "    result = string.count('a')\n",
    "    return result\n",
    "findchar(\"a\",\"swaaaaathi\")"
   ]
  },
  {
   "cell_type": "markdown",
   "id": "706cabd6",
   "metadata": {},
   "source": [
    "Q16: Create a function that takes a list and a string as arguments and returns the index of the string.\n",
    "Examples\n",
    "\n",
    "find_index([\"hi\", \"edabit\", \"fgh\", \"abc\"], \"fgh\") ➞ 2"
   ]
  },
  {
   "cell_type": "code",
   "execution_count": null,
   "id": "b037f0ec",
   "metadata": {},
   "outputs": [],
   "source": [
    "def giveindex(lst,string):\n",
    "    result = lst.index(string)\n",
    "    return result\n",
    "giveindex([\"hi\", \"edabit\", \"fgh\", \"abc\"], \"fgh\")"
   ]
  },
  {
   "cell_type": "markdown",
   "id": "495c88c4",
   "metadata": {},
   "source": [
    "Q17:Create a function which returns the length of a string, without using len()."
   ]
  },
  {
   "cell_type": "code",
   "execution_count": null,
   "id": "1671d1ae",
   "metadata": {},
   "outputs": [],
   "source": [
    "def length(x):\n",
    "    count = 0\n",
    "    for char in s:\n",
    "        count += 1\n",
    "    return count"
   ]
  },
  {
   "cell_type": "markdown",
   "id": "4705dc72",
   "metadata": {},
   "source": [
    "Q18: Given a letter and a list of words, return whether the letter does not appear in any of the words.\n",
    "Examples\n",
    "\n",
    "forbidden_letter(\"r\", [\"rock\", \"paper\", \"scissors\"]) ➞ False"
   ]
  },
  {
   "cell_type": "code",
   "execution_count": null,
   "id": "6f398d41",
   "metadata": {},
   "outputs": [],
   "source": [
    "def forbiddenletter(x,lst):\n",
    "    z = \"\".join(lst)\n",
    "    i = 0\n",
    "    while i in range(len(z)):\n",
    "        if z[i] != x:\n",
    "            return True\n",
    "        else:\n",
    "            return False\n",
    "        i+=1\n",
    "forbiddenletter(\"a\", [\"spoon\", \"fork\", \"knife\"])      "
   ]
  },
  {
   "cell_type": "markdown",
   "id": "5ed50fa4",
   "metadata": {},
   "source": [
    "Q19: Create a function that takes a 2D list lst and returns the sum of the minimum value in each row.\n",
    "Examples\n",
    "\n",
    "sum_minimums([\n",
    "  [1, 2, 3, 4, 5],\n",
    "  [5, 6, 7, 8, 9],\n",
    "  [20, 21, 34, 56, 100]\n",
    "]) ➞ 26\n",
    "\n",
    "minimum value of the first row is 1\n",
    "minimum value of the second row is 5\n",
    "minimum value of the third row is 20"
   ]
  },
  {
   "cell_type": "code",
   "execution_count": null,
   "id": "e8beaf6c",
   "metadata": {},
   "outputs": [],
   "source": [
    "def sumofmin(x):\n",
    "    x1 = x.sort(reverse = False)\n",
    "    return x1\n",
    "\n",
    "sumofmin([ [1, 2, 3, 4, 5], [5, 6, 7, 8, 9], [20, 21, 34, 56, 100] ])    "
   ]
  },
  {
   "cell_type": "markdown",
   "id": "2aae7acf",
   "metadata": {},
   "source": [
    "Q20:Create a function that finds each factor of a given number n. Your solution should return a list of the number(s) that meet this criteria."
   ]
  },
  {
   "cell_type": "code",
   "execution_count": null,
   "id": "f224184b",
   "metadata": {},
   "outputs": [],
   "source": [
    "def factors(x):\n",
    "    i = 1\n",
    "    z = [ ]\n",
    "    while i <= x:\n",
    "        if x % i == 0:\n",
    "            z.append(i)\n",
    "        i+=1\n",
    "    return z\n",
    "        \n",
    "factors(15)  "
   ]
  },
  {
   "cell_type": "markdown",
   "id": "34da9df3",
   "metadata": {},
   "source": [
    "Q21: Given a string, create a function to reverse the case. All lower-cased letters should be upper-cased, and vice versa."
   ]
  },
  {
   "cell_type": "code",
   "execution_count": null,
   "id": "7cb2eae0",
   "metadata": {},
   "outputs": [],
   "source": [
    "def reversecase(x):\n",
    "    Z =\"\"\n",
    "    for ele in x:\n",
    "        if ele.islower() == True:\n",
    "            z = ele.upper()\n",
    "        else: \n",
    "            z = ele.lower()\n",
    "    return(z)\n",
    "reversecase(\"QWerty\")           "
   ]
  },
  {
   "cell_type": "code",
   "execution_count": null,
   "id": "bdd3c8cd",
   "metadata": {},
   "outputs": [],
   "source": [
    "def reversecase(z):\n",
    "    return z.swapcase()\n",
    "reversecase(\"QWerty\")"
   ]
  },
  {
   "cell_type": "markdown",
   "id": "1cb67672",
   "metadata": {},
   "source": [
    "Q22: Create a function that returns the number of hashes and pluses in a string."
   ]
  },
  {
   "cell_type": "code",
   "execution_count": null,
   "id": "578c37ae",
   "metadata": {},
   "outputs": [],
   "source": [
    "def numhashplus(x):\n",
    "    hashtag = 0\n",
    "    plus = 0\n",
    "    for ele in x:\n",
    "        if ele == '#':\n",
    "            hashtag+=1\n",
    "        else:\n",
    "            plus+=1\n",
    "    return (hashtag , plus)\n",
    "    \n",
    "numhashplus(\"####+++####\")   "
   ]
  },
  {
   "cell_type": "markdown",
   "id": "34a115c6",
   "metadata": {},
   "source": [
    "Q 23; Given a one word lowercase string txt, return another string such that even-indexed and odd-indexed characters are grouped and groups are space-separated."
   ]
  },
  {
   "cell_type": "code",
   "execution_count": null,
   "id": "cba11c8b",
   "metadata": {},
   "outputs": [],
   "source": [
    "def evenoddindex(x):\n",
    "    even = []\n",
    "    odd = []\n",
    "    for ele in x:\n",
    "        if x.index(ele)% 2==0:\n",
    "            even.append(ele)\n",
    "        else:\n",
    "            odd.append(ele)\n",
    "        evenstring = \"\".join(even)\n",
    "        oddstring = \"\".join(odd)\n",
    "        result = evenstring+\" \"+oddstring\n",
    "    return result\n",
    "        \n",
    "evenoddindex(\"swathi priyadarsini\")        "
   ]
  },
  {
   "cell_type": "markdown",
   "id": "2ffefd9d",
   "metadata": {},
   "source": [
    "Q24:Create a function which returns the total of all odd numbers up to and including n. n will be given as an odd number."
   ]
  },
  {
   "cell_type": "code",
   "execution_count": null,
   "id": "76b5be02",
   "metadata": {},
   "outputs": [],
   "source": [
    "def oddsum(n):\n",
    "    summation = 0\n",
    "    i = 0\n",
    "    while i < (n+1):\n",
    "        if i%2!=0:\n",
    "            summation+=i\n",
    "    return summation\n",
    "oddsum(13)"
   ]
  },
  {
   "cell_type": "markdown",
   "id": "acc7882b",
   "metadata": {},
   "source": [
    "Q25:Given a list of numbers, negate all elements contained within.\n",
    "\n",
    "    Negating a positive value -+n will return -n, because all +'s are removed.\n",
    "    Negating a negative value --n will return n, because the first - turns the second minus into a +"
   ]
  },
  {
   "cell_type": "code",
   "execution_count": null,
   "id": "4eb90ff9",
   "metadata": {},
   "outputs": [],
   "source": [
    "def negation(x):\n",
    "    i = 0\n",
    "    z = []\n",
    "    while i <len(x):\n",
    "        z.append(-1*x[i])\n",
    "        i+=1\n",
    "    return z\n",
    "        \n",
    "negation([1,-2,3,-4,-5])    "
   ]
  },
  {
   "cell_type": "code",
   "execution_count": null,
   "id": "6a56193a",
   "metadata": {},
   "outputs": [],
   "source": [
    "Q26:Create a function that takes a number n and returns the sum of all square numbers up to and including n."
   ]
  },
  {
   "cell_type": "code",
   "execution_count": null,
   "id": "8f41e922",
   "metadata": {},
   "outputs": [],
   "source": [
    "def squaresum(n):\n",
    "    i = 1\n",
    "    summation = 0\n",
    "    while i <(n+1):\n",
    "        summation+= (i**2)\n",
    "        i+=1\n",
    "    return summation"
   ]
  },
  {
   "cell_type": "markdown",
   "id": "2bb257ef",
   "metadata": {},
   "source": [
    "Q27:A number added with its additive inverse equals zero. Create a function that returns a list of additive inverses."
   ]
  },
  {
   "cell_type": "code",
   "execution_count": null,
   "id": "f5e17e19",
   "metadata": {},
   "outputs": [],
   "source": [
    "def additiveinverse(x):\n",
    "    i = 0\n",
    "    z = []\n",
    "    while i <len(x):\n",
    "        z.append(0-x[i])\n",
    "        i+=1\n",
    "    return z\n",
    "additiveinverse([1,-2,3,-4,-5])        "
   ]
  },
  {
   "cell_type": "markdown",
   "id": "e6e9f2e0",
   "metadata": {},
   "source": [
    "Q28:Write a function that takes the last number of a consecutive list of numbers and returns the total of all numbers up to and including it."
   ]
  },
  {
   "cell_type": "code",
   "execution_count": null,
   "id": "a77520ad",
   "metadata": {},
   "outputs": [],
   "source": [
    "def squaresum(n):\n",
    "    i = 1\n",
    "    summation = 0\n",
    "    while i <(n+1):\n",
    "        summation+= i\n",
    "        i+=1\n",
    "    return summation"
   ]
  },
  {
   "cell_type": "markdown",
   "id": "859f17cc",
   "metadata": {},
   "source": [
    "Q29:Create a function that takes two parameters (start, stop), and returns the sum of all even numbers in the range."
   ]
  },
  {
   "cell_type": "code",
   "execution_count": null,
   "id": "7a2da0a8",
   "metadata": {},
   "outputs": [],
   "source": [
    "def evensum(x,y):\n",
    "    summation = 0\n",
    "    for i in range(x,y+1):\n",
    "        if i%2==0:\n",
    "            summation += i\n",
    "        i+=1\n",
    "    return summation"
   ]
  },
  {
   "cell_type": "markdown",
   "id": "c97b73e8",
   "metadata": {},
   "source": [
    "Q30:palindrome string"
   ]
  },
  {
   "cell_type": "code",
   "execution_count": null,
   "id": "017fe542",
   "metadata": {},
   "outputs": [],
   "source": [
    "def is_palindrome(s):\n",
    "    if s == s[::-1]:\n",
    "        return True\n",
    "    else:\n",
    "        return False"
   ]
  },
  {
   "cell_type": "code",
   "execution_count": null,
   "id": "971ce1e7",
   "metadata": {},
   "outputs": [],
   "source": []
  }
 ],
 "metadata": {
  "kernelspec": {
   "display_name": "Python 3 (ipykernel)",
   "language": "python",
   "name": "python3"
  },
  "language_info": {
   "codemirror_mode": {
    "name": "ipython",
    "version": 3
   },
   "file_extension": ".py",
   "mimetype": "text/x-python",
   "name": "python",
   "nbconvert_exporter": "python",
   "pygments_lexer": "ipython3",
   "version": "3.10.9"
  }
 },
 "nbformat": 4,
 "nbformat_minor": 5
}
