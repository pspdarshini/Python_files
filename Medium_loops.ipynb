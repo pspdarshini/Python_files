{
 "cells": [
  {
   "cell_type": "markdown",
   "id": "0645c59f",
   "metadata": {},
   "source": [
    "# Medium Question (1-60)\n"
   ]
  },
  {
   "cell_type": "code",
   "execution_count": null,
   "id": "02820cd6",
   "metadata": {},
   "outputs": [],
   "source": [
    "#Create a function that takes two numbers as arguments (num, length) and \n",
    "#returns a list of multiples of num until the list length reaches length\n",
    "\n",
    "def list_of_multiples(num, length):\n",
    "    x, z = 1, 0\n",
    "    y = []\n",
    "    while x <= length:\n",
    "        y.append(num * x)\n",
    "        z += 1\n",
    "        x += 1\n",
    "    return y\n",
    "\n",
    "list_of_multiples(4,3)"
   ]
  },
  {
   "cell_type": "markdown",
   "id": "e647292a",
   "metadata": {},
   "source": [
    "Q-2 Write a function that accepts the height and width (m, n) and an optional proc s and generates a list with m elements. Each element is a string consisting of either:\n",
    "\n",
    "    The default character (hash #) repeating n times (if no proc is given).\n",
    "    The character passed in through the proc repeating n times."
   ]
  },
  {
   "cell_type": "code",
   "execution_count": 43,
   "id": "dc484929",
   "metadata": {},
   "outputs": [
    {
     "name": "stdout",
     "output_type": "stream",
     "text": [
      "['@@@@', '@@@@', '@@@@']\n"
     ]
    }
   ],
   "source": [
    "def designing_rugs(m, n, z):\n",
    "    x = []\n",
    "    for p in range(m):\n",
    "        if z == '':\n",
    "            x.append('#' * n)\n",
    "        else:\n",
    "            x.append(z * n)\n",
    "    return x\n",
    "\n",
    "print(designing_rugs(3,4,'@'),sep='\\n')\n",
    "\n",
    "   "
   ]
  },
  {
   "cell_type": "markdown",
   "id": "a59cde5a",
   "metadata": {},
   "source": [
    "Q3: You prepare a list to send to the insurance company. As you finish, you notice you misformatted it. Given a dictionary with at least one key/value pair, convert all the values to numbers.\n"
   ]
  },
  {
   "cell_type": "code",
   "execution_count": 22,
   "id": "6dfc20aa",
   "metadata": {},
   "outputs": [
    {
     "data": {
      "text/plain": [
       "{'200': 500}"
      ]
     },
     "execution_count": 22,
     "metadata": {},
     "output_type": "execute_result"
    }
   ],
   "source": [
    "def integervalues(x):\n",
    "    for key in x:\n",
    "        x[key] = int(x[key])\n",
    "    return x\n",
    "integervalues({\"200\": \"500\"})\n"
   ]
  },
  {
   "cell_type": "markdown",
   "id": "493edc8a",
   "metadata": {},
   "source": [
    "Q4: In each input list, every number repeats at least once, except for two. Write a function that returns the two unique numbers."
   ]
  },
  {
   "cell_type": "code",
   "execution_count": 54,
   "id": "e93ee588",
   "metadata": {},
   "outputs": [
    {
     "name": "stdout",
     "output_type": "stream",
     "text": [
      "[1, 3, 5]\n"
     ]
    }
   ],
   "source": [
    "def unique_numbers(x):\n",
    "    y = []\n",
    "    for i in range(len(x)):\n",
    "        is_unique = True\n",
    "        for j in range(len(x)):\n",
    "            if i != j and x[i] == x[j]:\n",
    "                is_unique = False\n",
    "                break\n",
    "        if is_unique:\n",
    "            y.append(x[i])\n",
    "    return y\n",
    "\n",
    "\n",
    "\n",
    "result = unique_numbers([1, 2, 2, 3, 4, 4, 5])\n",
    "print(result)\n",
    "\n",
    "\n",
    "\n",
    "   "
   ]
  },
  {
   "cell_type": "markdown",
   "id": "b3e51d2f",
   "metadata": {},
   "source": [
    "Q5 : A number is said to be Harshad if it's exactly divisible by the sum of its digits. Create a function that determines whether a number is a Harshad or not."
   ]
  },
  {
   "cell_type": "code",
   "execution_count": 19,
   "id": "8af7e08a",
   "metadata": {},
   "outputs": [
    {
     "name": "stdout",
     "output_type": "stream",
     "text": [
      "the given number is a harshad number\n"
     ]
    }
   ],
   "source": [
    "def addition_digits(x):\n",
    "    addition =0\n",
    "    while x > 0:\n",
    "        addition += (x % 10)\n",
    "        x //= 10\n",
    "    return addition\n",
    "def harshad_number(y):   \n",
    "    if y % addition_digits(y)==0:\n",
    "        print (\"the given number is a harshad number\")\n",
    "    else: \n",
    "        print(\"the given number is not a harshad number\")\n",
    "\n",
    "\n",
    "harshad_number(171)\n",
    "\n"
   ]
  },
  {
   "cell_type": "markdown",
   "id": "d4c848ac",
   "metadata": {},
   "source": [
    "Q6: The challenge is to recreate the functionality of the title() method into a function called emphasise(). The title() method capitalises the first letter of every word and lowercases all of the other letters in the word."
   ]
  },
  {
   "cell_type": "code",
   "execution_count": 4,
   "id": "9efefba8",
   "metadata": {},
   "outputs": [
    {
     "data": {
      "text/plain": [
       "'Hello Swathi Priya Darsini'"
      ]
     },
     "execution_count": 4,
     "metadata": {},
     "output_type": "execute_result"
    }
   ],
   "source": [
    "def titlewords(string):\n",
    "    words = string.split()\n",
    "    title_words = []\n",
    "    for word in words:\n",
    "        title_words.append(word.capitalize())\n",
    "    return title_words\n",
    "def emphasize(totalstring):\n",
    "    x= titlewords(totalstring)\n",
    "    z= ' '.join(x)\n",
    "    return z\n",
    "    \n",
    "emphasize('hello swathi priya darsini')\n"
   ]
  },
  {
   "cell_type": "code",
   "execution_count": 7,
   "id": "bce4ac06",
   "metadata": {},
   "outputs": [
    {
     "data": {
      "text/plain": [
       "'Hello Swathi Priya Darsini'"
      ]
     },
     "execution_count": 7,
     "metadata": {},
     "output_type": "execute_result"
    }
   ],
   "source": [
    "x= 'hello swathi priya darsini'\n",
    "x.title()\n"
   ]
  },
  {
   "cell_type": "markdown",
   "id": "54ed9d65",
   "metadata": {},
   "source": [
    "Q7: printing square patch of numbers"
   ]
  },
  {
   "cell_type": "code",
   "execution_count": 5,
   "id": "07f0c59e",
   "metadata": {},
   "outputs": [
    {
     "data": {
      "text/plain": [
       "[[6, 6, 6, 6, 6, 6],\n",
       " [6, 6, 6, 6, 6, 6],\n",
       " [6, 6, 6, 6, 6, 6],\n",
       " [6, 6, 6, 6, 6, 6],\n",
       " [6, 6, 6, 6, 6, 6],\n",
       " [6, 6, 6, 6, 6, 6]]"
      ]
     },
     "execution_count": 5,
     "metadata": {},
     "output_type": "execute_result"
    }
   ],
   "source": [
    "def square_patch(n):\n",
    "    return [[n] * n for _ in range(n)]\n",
    "\n",
    "square_patch(6)"
   ]
  },
  {
   "cell_type": "markdown",
   "id": "7c4da65c",
   "metadata": {},
   "source": [
    "Q8: Create a function that counts the integer's number of digits."
   ]
  },
  {
   "cell_type": "code",
   "execution_count": 3,
   "id": "7cb06f11",
   "metadata": {},
   "outputs": [
    {
     "data": {
      "text/plain": [
       "3"
      ]
     },
     "execution_count": 3,
     "metadata": {},
     "output_type": "execute_result"
    }
   ],
   "source": [
    "def noofdigits(z):\n",
    "    x=[]\n",
    "    while z > 0:\n",
    "        x.append(z % 10)\n",
    "        z//=10\n",
    "    return len(x) \n",
    "\n",
    "noofdigits(123)"
   ]
  },
  {
   "cell_type": "markdown",
   "id": "504340fb",
   "metadata": {},
   "source": [
    "Q9: Create a function that returns the amount of duplicate characters in a string. It will be case sensitive and spaces are included. If there are no duplicates, return 0."
   ]
  },
  {
   "cell_type": "code",
   "execution_count": 14,
   "id": "82378b6e",
   "metadata": {},
   "outputs": [
    {
     "data": {
      "text/plain": [
       "1"
      ]
     },
     "execution_count": 14,
     "metadata": {},
     "output_type": "execute_result"
    }
   ],
   "source": [
    "def duplicates(x):\n",
    "    i = 0\n",
    "    addition = 0\n",
    "    while i < len(x):\n",
    "        if x.count(x[i]) != 1:\n",
    "            addition = x.count(x[i]) -1\n",
    "        i += 1\n",
    "    return addition\n",
    "            \n",
    "duplicates('neello')            "
   ]
  },
  {
   "cell_type": "markdown",
   "id": "c1cc7276",
   "metadata": {},
   "source": [
    "Q10: Your task is to create a function that, when fed the inputs below, produces the sample outputs shown.\n",
    "mystery_func(832) ➞ 48"
   ]
  },
  {
   "cell_type": "code",
   "execution_count": 18,
   "id": "4a541e22",
   "metadata": {},
   "outputs": [
    {
     "data": {
      "text/plain": [
       "9"
      ]
     },
     "execution_count": 18,
     "metadata": {},
     "output_type": "execute_result"
    }
   ],
   "source": [
    "def mysteryfunction(x):\n",
    "    z=[]\n",
    "    multiplication = 1\n",
    "    while x > 0:\n",
    "        multiplication *= (x%10)\n",
    "        x//=10\n",
    "    return multiplication\n",
    "mysteryfunction(133)"
   ]
  },
  {
   "cell_type": "markdown",
   "id": "9a3dfddb",
   "metadata": {},
   "source": [
    "Q11:Create a function that performs an even-odd transform to a list, n times. Each even-odd transformation:\n",
    "\n",
    "    Adds two (+2) to each odd integer.\n",
    "    Subtracts two (-2) from each even integer."
   ]
  },
  {
   "cell_type": "code",
   "execution_count": 26,
   "id": "16e7588f",
   "metadata": {},
   "outputs": [
    {
     "data": {
      "text/plain": [
       "[-5, 8, -3, 10]"
      ]
     },
     "execution_count": 26,
     "metadata": {},
     "output_type": "execute_result"
    }
   ],
   "source": [
    "def evenoddtransform(z,x):\n",
    "    y = []\n",
    "    for i in range(len(z)):\n",
    "        if z[i]%2 == 0:\n",
    "            y.append(z[i]+(2*x))\n",
    "        else:\n",
    "            y.append(z[i]-(2*x))\n",
    "    return y\n",
    "evenoddtransform([1,2,3,4],3)"
   ]
  },
  {
   "cell_type": "markdown",
   "id": "2207de9e",
   "metadata": {},
   "source": [
    "Q12: Create a function that takes a number (step) as an argument and returns the amount of boxes in that step of the sequence."
   ]
  },
  {
   "cell_type": "code",
   "execution_count": 6,
   "id": "f0ae59bd",
   "metadata": {},
   "outputs": [],
   "source": [
    "def algebraicsequence(step):\n",
    "    x = 0\n",
    "    addition = 0\n",
    "\n",
    "    # Loop through values of x from 0 to (step + 1)\n",
    "    while x < (step + 1):\n",
    "        if x == 0:\n",
    "            addition = 0  # Special case when x is 0, set addition to 0.\n",
    "        elif x % 2 == 0:\n",
    "            addition -= 1  # For even values of x, subtract 1 from addition.\n",
    "        else:\n",
    "            addition += 3  # For odd values of x, add 3 to addition.\n",
    "        x += 1  # Increment x by 1 in each iteration.\n",
    "\n",
    "    return addition  "
   ]
  },
  {
   "cell_type": "markdown",
   "id": "5cec3950",
   "metadata": {},
   "source": [
    "Q13: Given a string containing unique letters, return a sorted string with the letters that don't appear in the string.\n",
    "    "
   ]
  },
  {
   "cell_type": "code",
   "execution_count": 5,
   "id": "f7a6eb9f",
   "metadata": {},
   "outputs": [
    {
     "data": {
      "text/plain": [
       "'hijklmnopqrstuvwxyz'"
      ]
     },
     "execution_count": 5,
     "metadata": {},
     "output_type": "execute_result"
    }
   ],
   "source": [
    "def find_missing_letters(input_string):\n",
    "    # Step 1: Create a set with all letters of the alphabet\n",
    "    alphabet_set = set('abcdefghijklmnopqrstuvwxyz')\n",
    "\n",
    "    # Step 2: Convert input string into a set to get unique letters\n",
    "    input_set = set(input_string)  # Convert to lowercase to handle case-insensitivity\n",
    "\n",
    "    # Step 3: Find the set difference\n",
    "    missing_letters_set = alphabet_set - input_set\n",
    "\n",
    "    # Step 4: Convert the resulting set to a sorted string\n",
    "    sorted_missing_letters = ''.join(sorted(missing_letters_set))\n",
    "\n",
    "    return sorted_missing_letters\n",
    "find_missing_letters('abcdefg')\n"
   ]
  },
  {
   "cell_type": "markdown",
   "id": "ef7dc86b",
   "metadata": {},
   "source": [
    "Q14: Create a function which adds spaces before every capital in a word. Uncapitalize the whole string afterwards."
   ]
  },
  {
   "cell_type": "code",
   "execution_count": 23,
   "id": "e61f7dd8",
   "metadata": {},
   "outputs": [],
   "source": [
    "def add_spaces_and_uncapitalize(word):\n",
    "    result = \"\"  # Initialize an empty string to store the modified word\n",
    "\n",
    "    # Loop through each character in the word\n",
    "    for char in word:\n",
    "        if char.isupper():  # Check if the character is uppercase\n",
    "            result += \" \" + char  # If uppercase, add a space before the character\n",
    "        else:\n",
    "            result += char  # If not uppercase, add the character as is to the result\n",
    "\n",
    "    return result.lower()  # Return the modified word converted to lowercase\n"
   ]
  },
  {
   "cell_type": "markdown",
   "id": "b44cb997",
   "metadata": {},
   "source": [
    "Q15:To train for an upcoming marathon, Johnny goes on one long-distance run each Saturday. He wants to track how often the number of miles he runs exceeds the previous Saturday. This is called a progress day.\n",
    "\n",
    "Create a function that takes in a list of miles run every Saturday and returns Johnny's total number of progress days."
   ]
  },
  {
   "cell_type": "code",
   "execution_count": 29,
   "id": "a1617425",
   "metadata": {},
   "outputs": [
    {
     "data": {
      "text/plain": [
       "3"
      ]
     },
     "execution_count": 29,
     "metadata": {},
     "output_type": "execute_result"
    }
   ],
   "source": [
    "def progressday(x):\n",
    "    i = 0\n",
    "    pd =0\n",
    "    while i < (len(x) -1):\n",
    "        if x[i]< x[i+1]:\n",
    "            pd+=1\n",
    "        else:\n",
    "            pd+=0\n",
    "        i+=1\n",
    "        \n",
    "    return pd\n",
    "    \n",
    "    \n",
    "progressday([1,2,4,1,3])"
   ]
  },
  {
   "cell_type": "markdown",
   "id": "1c6924e9",
   "metadata": {},
   "source": [
    "Q16:Given two strings comprised of + and -, return a new string which shows how the two strings interact in the following way:\n",
    "\n",
    "    When positives and positives interact, they remain positive.\n",
    "    When negatives and negatives interact, they remain negative.\n",
    "    But when negatives and positives interact, they become neutral, and are shown as the number 0."
   ]
  },
  {
   "cell_type": "code",
   "execution_count": 38,
   "id": "7f793dd8",
   "metadata": {},
   "outputs": [
    {
     "data": {
      "text/plain": [
       "'0+-0'"
      ]
     },
     "execution_count": 38,
     "metadata": {},
     "output_type": "execute_result"
    }
   ],
   "source": [
    "def neutral(x,y):\n",
    "    z = []\n",
    "    i = 0\n",
    "    while i <len(x):\n",
    "        if x[i] == y[i] == '+':\n",
    "            z.append('+')\n",
    "        elif x[i] == y[i] == '-':\n",
    "            z.append('-')\n",
    "        else:\n",
    "            z.append('0')\n",
    "        i+=1\n",
    "    return \"\".join(z)\n",
    "        \n",
    "neutral('++-+','-+--')            \n",
    "        \n",
    "    \n"
   ]
  },
  {
   "cell_type": "markdown",
   "id": "868e8a26",
   "metadata": {},
   "source": [
    "Q17: The iterated square root of a number is the number of times the square root function must be applied to bring the number strictly under 2.\n",
    "\n",
    "Given an integer, return its iterated square root. Return \"invalid\" if it is negative."
   ]
  },
  {
   "cell_type": "code",
   "execution_count": 1,
   "id": "4679f865",
   "metadata": {},
   "outputs": [
    {
     "data": {
      "text/plain": [
       "11"
      ]
     },
     "execution_count": 1,
     "metadata": {},
     "output_type": "execute_result"
    }
   ],
   "source": [
    "def iteratedsqrt(x):\n",
    "    i = 1\n",
    "    while i < 3:\n",
    "        isqrt = x** 0.5\n",
    "        i+=1\n",
    "    return int(isqrt)\n",
    "iteratedsqrt(121)    "
   ]
  },
  {
   "cell_type": "markdown",
   "id": "424e8f9c",
   "metadata": {},
   "source": [
    "Q18: John is playing a dice game. The rules are as follows.\n",
    "\n",
    "    Roll two dice.\n",
    "    Add the numbers on the dice together.\n",
    "    Add the total to your overall score.\n",
    "    Repeat this for three rounds.\n",
    "\n",
    "But if you roll DOUBLES, your score is instantly wiped to 0 and your game ends immediately!\n",
    "\n",
    "Create a function that takes in a list of tuples as input, and return John's score after his game has ended.\n"
   ]
  },
  {
   "cell_type": "code",
   "execution_count": 51,
   "id": "bd164890",
   "metadata": {},
   "outputs": [
    {
     "ename": "IndexError",
     "evalue": "tuple index out of range",
     "output_type": "error",
     "traceback": [
      "\u001b[1;31m---------------------------------------------------------------------------\u001b[0m",
      "\u001b[1;31mIndexError\u001b[0m                                Traceback (most recent call last)",
      "Cell \u001b[1;32mIn[51], line 14\u001b[0m\n\u001b[0;32m     11\u001b[0m         j\u001b[38;5;241m+\u001b[39m\u001b[38;5;241m=\u001b[39m\u001b[38;5;241m1\u001b[39m\n\u001b[0;32m     12\u001b[0m     \u001b[38;5;28;01mreturn\u001b[39;00m \u001b[38;5;28msum\u001b[39m\n\u001b[1;32m---> 14\u001b[0m \u001b[43mdoublerolls\u001b[49m\u001b[43m(\u001b[49m\u001b[43m[\u001b[49m\u001b[43m(\u001b[49m\u001b[38;5;241;43m1\u001b[39;49m\u001b[43m,\u001b[49m\u001b[38;5;241;43m1\u001b[39;49m\u001b[43m)\u001b[49m\u001b[43m,\u001b[49m\u001b[43m(\u001b[49m\u001b[38;5;241;43m2\u001b[39;49m\u001b[43m,\u001b[49m\u001b[38;5;241;43m3\u001b[39;49m\u001b[43m)\u001b[49m\u001b[43m,\u001b[49m\u001b[43m(\u001b[49m\u001b[38;5;241;43m4\u001b[39;49m\u001b[43m,\u001b[49m\u001b[38;5;241;43m5\u001b[39;49m\u001b[43m)\u001b[49m\u001b[43m]\u001b[49m\u001b[43m)\u001b[49m\n",
      "Cell \u001b[1;32mIn[51], line 6\u001b[0m, in \u001b[0;36mdoublerolls\u001b[1;34m(x)\u001b[0m\n\u001b[0;32m      4\u001b[0m \u001b[38;5;28msum\u001b[39m \u001b[38;5;241m=\u001b[39m \u001b[38;5;241m0\u001b[39m\n\u001b[0;32m      5\u001b[0m \u001b[38;5;28;01mwhile\u001b[39;00m i\u001b[38;5;241m<\u001b[39m \u001b[38;5;241m3\u001b[39m \u001b[38;5;129;01mand\u001b[39;00m j \u001b[38;5;241m<\u001b[39m \u001b[38;5;241m3\u001b[39m:\n\u001b[1;32m----> 6\u001b[0m     \u001b[38;5;28;01mif\u001b[39;00m x[i][j] \u001b[38;5;241m==\u001b[39m \u001b[43mx\u001b[49m\u001b[43m[\u001b[49m\u001b[43mi\u001b[49m\u001b[38;5;241;43m+\u001b[39;49m\u001b[38;5;241;43m1\u001b[39;49m\u001b[43m]\u001b[49m\u001b[43m[\u001b[49m\u001b[43mj\u001b[49m\u001b[38;5;241;43m+\u001b[39;49m\u001b[38;5;241;43m1\u001b[39;49m\u001b[43m]\u001b[49m:\n\u001b[0;32m      7\u001b[0m         \u001b[38;5;28;01mreturn\u001b[39;00m \u001b[38;5;241m0\u001b[39m\n\u001b[0;32m      8\u001b[0m         \u001b[38;5;28;01mbreak\u001b[39;00m\n",
      "\u001b[1;31mIndexError\u001b[0m: tuple index out of range"
     ]
    }
   ],
   "source": [
    "def doublerolls(x):\n",
    "    i = 0\n",
    "    j = 0\n",
    "    sum = 0\n",
    "    while i< 3 and j < 3:\n",
    "        if x[i][j] == x[i+1][j+1]:\n",
    "            return 0\n",
    "            break\n",
    "            sum = x[i][j] + x[i+1][j+1]\n",
    "        i+=1\n",
    "        j+=1\n",
    "    return sum\n",
    "            \n",
    "doublerolls([(1,1),(2,3),(4,5)])        \n",
    "\n",
    "    "
   ]
  },
  {
   "cell_type": "markdown",
   "id": "8385bf2f",
   "metadata": {},
   "source": [
    "Q-19 Syncopation means an emphasis on a weak beat of a bar of music; most commonly, beats 2 and 4 (and all other even-numbered beats if applicable).\n",
    "\n",
    "You will be given a string representing beats, where hashtags # represent emphasized beats. Create a function that returns if True the line of music contains any syncopation, and False otherwise."
   ]
  },
  {
   "cell_type": "code",
   "execution_count": 70,
   "id": "083ff116",
   "metadata": {},
   "outputs": [
    {
     "data": {
      "text/plain": [
       "True"
      ]
     },
     "execution_count": 70,
     "metadata": {},
     "output_type": "execute_result"
    }
   ],
   "source": [
    "def syncoped(x):\n",
    "    i =1\n",
    "    summation = 0\n",
    "    for i in range(1,len(x),2):\n",
    "        if x[i] == '#':\n",
    "            return True\n",
    "        else:\n",
    "            return False\n",
    "    \n",
    "\n",
    "syncoped(\".#..\")    \n",
    "    "
   ]
  },
  {
   "cell_type": "markdown",
   "id": "3ccc4416",
   "metadata": {},
   "source": [
    "Q-20Create a function that takes a list of numbers and return \"Boom!\" if the digit 7 appears in the list. Otherwise, return \"there is no 7 in the list\"."
   ]
  },
  {
   "cell_type": "code",
   "execution_count": 79,
   "id": "4a0011b2",
   "metadata": {},
   "outputs": [
    {
     "data": {
      "text/plain": [
       "'7 Not found in the list'"
      ]
     },
     "execution_count": 79,
     "metadata": {},
     "output_type": "execute_result"
    }
   ],
   "source": [
    "def sevenboom(x):\n",
    "    string1 = 'BOOM'\n",
    "    string2 = \"7 Not found in the list\"\n",
    "    z = \"\".join(str(elem) for elem in x)\n",
    "    if  '7' in z:\n",
    "        return string1\n",
    "    else:\n",
    "        return string2\n",
    "\n",
    "        \n",
    "sevenboom([1, 2, 3, 4, 5, 6, 0])       "
   ]
  },
  {
   "cell_type": "markdown",
   "id": "7013e218",
   "metadata": {},
   "source": [
    "Q21:Let's assume for the purposes of this challenge that for every layer of fabric you wear when it's cold outside (coats, cardigans, etc), the temperature increases by a tenth of the total.\n",
    "\n",
    "Given n number of layers and a given temperature, return the temperature inside of all those warm fuzzy layers. Round to the nearest tenth of a degree.\n",
    "\n",
    "calc_bundled_temp(2, \"10*C\") ➞ \"12.1*C\"\n",
    " 10 * 1.1 = 11\n",
    " 11 * 1.1 = 12.1"
   ]
  },
  {
   "cell_type": "code",
   "execution_count": 1,
   "id": "705bcce9",
   "metadata": {},
   "outputs": [
    {
     "data": {
      "text/plain": [
       "13.310000000000004"
      ]
     },
     "execution_count": 1,
     "metadata": {},
     "output_type": "execute_result"
    }
   ],
   "source": [
    "def temperaturechange(layer,temp):\n",
    "    finaltemp = temp*(1.1**layer)\n",
    "    return finaltemp\n",
    "    \n",
    "        \n",
    "temperaturechange(3,10)    \n"
   ]
  },
  {
   "cell_type": "markdown",
   "id": "8360cdc2",
   "metadata": {},
   "source": [
    "Q22:You are given one input: a list containing eight 1's and/or 0's. Write a function that takes an 8 bit binary number and converts it to decimal."
   ]
  },
  {
   "cell_type": "code",
   "execution_count": 1,
   "id": "a4d7ec7d",
   "metadata": {},
   "outputs": [
    {
     "data": {
      "text/plain": [
       "119"
      ]
     },
     "execution_count": 1,
     "metadata": {},
     "output_type": "execute_result"
    }
   ],
   "source": [
    "def bin_dec(x):\n",
    "    z = [128,64,32,16,8,4,2,1]\n",
    "    summation = 0\n",
    "    i = 0\n",
    "    while i <len(x):\n",
    "        summation += (x[i]*z[i])\n",
    "        i+=1\n",
    "    return summation\n",
    "\n",
    "bin_dec([0,1,1,1,0,1,1,1])"
   ]
  },
  {
   "cell_type": "markdown",
   "id": "160246c1",
   "metadata": {},
   "source": [
    "Q23:Create a function that takes in a list and returns a list of the accumulating sum.\n",
    "\n",
    "accumulating_list([1, 2, 3, 4]) ➞ [1, 3, 6, 10]\n",
    " [1, 3, 6, 10] can be written as  [1, 1 + 2, 1 + 2 + 3, 1 + 2 + 3 + 4]\n",
    "\n",
    "accumulating_list([1, 5, 7]) ➞ [1, 6, 13]\n",
    "\n",
    "accumulating_list([1, 0, 1, 0, 1]) ➞ [1, 1, 2, 2, 3]\n",
    "\n",
    "accumulating_list([]) ➞ []"
   ]
  },
  {
   "cell_type": "code",
   "execution_count": 1,
   "id": "2ad48097",
   "metadata": {},
   "outputs": [
    {
     "data": {
      "text/plain": [
       "[1, 3, 6, 10, 15]"
      ]
     },
     "execution_count": 1,
     "metadata": {},
     "output_type": "execute_result"
    }
   ],
   "source": [
    "def accumnum(x):\n",
    "    i = 0\n",
    "    y = []\n",
    "    sum = 0\n",
    "    while i in range(len(x)):\n",
    "        sum += x[i]\n",
    "        y.append(sum)\n",
    "        i+=1\n",
    "    return y\n",
    "accumnum([1,2,3,4,5])"
   ]
  },
  {
   "cell_type": "markdown",
   "id": "ed399636",
   "metadata": {},
   "source": [
    "Q24: Write a function that finds the largest even number in a list. Return -1 if not found. The use of built-in functions max() and sorted() are prohibited.\n",
    "largest_even([3, 7, 2, 1, 7, 9, 10, 13]) ➞ 10"
   ]
  },
  {
   "cell_type": "code",
   "execution_count": 14,
   "id": "ab8454e2",
   "metadata": {},
   "outputs": [],
   "source": [
    "def is_even(x):\n",
    "    i = 0\n",
    "    y = []\n",
    "    while i in range(len(x)):\n",
    "        if x[i]%2 == 0:\n",
    "            y.append(x[i])\n",
    "            i+=1\n",
    "    return y\n",
    "def is_largeeven(y):\n",
    "    z = is_even(y)\n",
    "    \n",
    "    \n",
    "    \n",
    "    \n",
    "    \n",
    "    "
   ]
  },
  {
   "cell_type": "markdown",
   "id": "bb6ab130",
   "metadata": {},
   "source": [
    "Q25: fibanocci series"
   ]
  },
  {
   "cell_type": "code",
   "execution_count": 8,
   "id": "a09eb51e",
   "metadata": {},
   "outputs": [
    {
     "data": {
      "text/plain": [
       "[0, 1, 1, 2, 3, 5, 8, 13, 21, 34]"
      ]
     },
     "execution_count": 8,
     "metadata": {},
     "output_type": "execute_result"
    }
   ],
   "source": [
    "def fib(x):\n",
    "    if x <= 0:\n",
    "        return []\n",
    "    elif x == 1:\n",
    "        return [0]\n",
    "    elif x == 2:\n",
    "        return [0, 1]\n",
    "    else:\n",
    "        z = fib(x - 1)\n",
    "        z.append(z[-1] + z[-2])\n",
    "        return z\n",
    "    \n",
    "fib(10)"
   ]
  },
  {
   "cell_type": "markdown",
   "id": "64f278b5",
   "metadata": {},
   "source": [
    "Q26: You will be given a list of numbers which represent your character's altitude above sea level at regular intervals:\n",
    "\n",
    "    Positive numbers represent height above the water.\n",
    "    0 is sea level.\n",
    "    Negative numbers represent depth below the water's surface.\n",
    "\n",
    "Create a function which returns whether your character survives their unsupervised diving experience, given a list of integers.\n",
    "\n",
    "    Your character starts with a breath meter of 10, which is the maximum. When diving underwater, your breath meter decreases by 2 per item in the array. Watch out! If your breath diminishes to 0, your character dies!\n",
    "\n",
    "    To prevent this, you can replenish your breath by 4 (up to the maximum of 10) for each item in the array where you are at or above sea level.\n",
    "\n",
    "    Your function should return True if your character survives, and False if not."
   ]
  },
  {
   "cell_type": "code",
   "execution_count": 12,
   "id": "67d1422a",
   "metadata": {},
   "outputs": [
    {
     "data": {
      "text/plain": [
       "True"
      ]
     },
     "execution_count": 12,
     "metadata": {},
     "output_type": "execute_result"
    }
   ],
   "source": [
    "def breathmeter(x):\n",
    "    maximum = 10\n",
    "    i = 0\n",
    "    while  i in range(len(x)):\n",
    "        if x[i] < 0:\n",
    "            maximum -=2\n",
    "        else:\n",
    "            maximum +=4\n",
    "        i+=1\n",
    "    if maximum > 0:\n",
    "        return True\n",
    "    else:\n",
    "        return False\n",
    "        \n",
    "breathmeter([-5, -15, -4, 0, 5])        "
   ]
  },
  {
   "cell_type": "markdown",
   "id": "538182b6",
   "metadata": {},
   "source": [
    "Q27:In music, cadences act as punctuation in musical phrases, and help to mark the end of phrases. Cadences are the two chords at the end of a phrase. The different cadences are as follows:\n",
    "\n",
    "    V followed by I is a Perfect Cadence\n",
    "    IV followed by I is a Plagal Cadence\n",
    "    V followed by Any chord other than I is an Interrupted Cadence\n",
    "    Any chord followed by V is an Imperfect Cadence\n",
    "\n",
    "Create a function where given a chord progression as a list, return the type of cadence the phrase ends on."
   ]
  },
  {
   "cell_type": "code",
   "execution_count": 16,
   "id": "e0cdcd7b",
   "metadata": {},
   "outputs": [
    {
     "name": "stdout",
     "output_type": "stream",
     "text": [
      "interrupted\n"
     ]
    }
   ],
   "source": [
    "def candence(x):\n",
    "        if x[-2] == \"V\" and x[-1] == \"I\":\n",
    "            print(\"perfect\")\n",
    "        elif x[-2] == \"IV\" and x[-1] == \"I\":\n",
    "            print (\"plagal\")\n",
    "        elif x[-2] == \"V\" and x[-1] != \"I\":\n",
    "            print(\"interrupted\")\n",
    "        else:\n",
    "            print(\"imperfect\")\n",
    "\n",
    "candence([\"I\", \"IV\", \"I\", \"V\", \"vi\"])    "
   ]
  },
  {
   "cell_type": "markdown",
   "id": "4f937785",
   "metadata": {},
   "source": [
    "Q28: A fruit juice company tags their fruit juices by concatenating the first three letters of the words in a flavor's name, with its capacity.\n",
    "\n",
    "Create a function that creates product IDs for different fruit juices."
   ]
  },
  {
   "cell_type": "code",
   "execution_count": 26,
   "id": "5f402264",
   "metadata": {},
   "outputs": [],
   "source": [
    "def fruitjuicetag(name, cap):\n",
    "    capacity = str(cap)  # Convert the capacity to a string if it's not already\n",
    "    x = name.split()  # Split the 'name' string into a list of words\n",
    "    x.append(capacity)  # Append the 'capacity' string to the list 'x'\n",
    "    result = []  # Initialize an empty list to store the first three characters of each element in 'x'\n",
    "    \n",
    "    # Iterate through each element of the list 'x'\n",
    "    for i in range(len(x)):\n",
    "        result.append(x[i][:3])  # Take the first three characters of the current element and add it to the 'result' list\n",
    "\n",
    "    return \"\".join(result)    "
   ]
  },
  {
   "cell_type": "markdown",
   "id": "43d5c9b2",
   "metadata": {},
   "source": [
    "Q29:Create a function that takes two lists of numbers sorted in ascending order and returns a list of numbers which are common to both the input lists."
   ]
  },
  {
   "cell_type": "code",
   "execution_count": 28,
   "id": "15f796dc",
   "metadata": {},
   "outputs": [],
   "source": [
    "def find_common_elements(list1, list2):\n",
    "    common_elements = []\n",
    "    i, j = 0, 0\n",
    "\n",
    "    # Loop until we reach the end of either list\n",
    "    while i < len(list1) and j < len(list2):\n",
    "        if list1[i] == list2[j]:  # If both elements are equal, it's a common element\n",
    "            common_elements.append(list1[i])\n",
    "            i += 1\n",
    "            j += 1\n",
    "        elif list1[i] < list2[j]:  # If the element in list1 is smaller, move to the next element in list1\n",
    "            i += 1\n",
    "        else:  # If the element in list2 is smaller, move to the next element in list2\n",
    "            j += 1\n",
    "\n",
    "    return common_elements\n",
    "    \n"
   ]
  },
  {
   "cell_type": "markdown",
   "id": "3268143c",
   "metadata": {},
   "source": [
    "Q30:Create a function that determines whether elements in an array can be re-arranged to form a consecutive list of numbers where each number appears exactly once."
   ]
  },
  {
   "cell_type": "code",
   "execution_count": 34,
   "id": "62cd4c50",
   "metadata": {},
   "outputs": [
    {
     "data": {
      "text/plain": [
       "False"
      ]
     },
     "execution_count": 34,
     "metadata": {},
     "output_type": "execute_result"
    }
   ],
   "source": [
    "def consecutiveelements(x):\n",
    "    list = x.sort(reverse = True)\n",
    "    sum = 0\n",
    "    i = 0\n",
    "    while i in range(len(x)):\n",
    "        sum = sum+ x[i]-x[i+1]\n",
    "        i+=1\n",
    "        if sum == len(x)-1:\n",
    "            return True\n",
    "        else:\n",
    "            return False\n",
    "consecutiveelements([5, 1, 4, 3, 2])        "
   ]
  },
  {
   "cell_type": "markdown",
   "id": "022121fd",
   "metadata": {},
   "source": [
    "Q31:\n",
    "Given a list of numbers, write a function that returns a list that...\n",
    "\n",
    "    Has all duplicate elements removed.\n",
    "    Is sorted from least to greatest value."
   ]
  },
  {
   "cell_type": "code",
   "execution_count": 5,
   "id": "175fa215",
   "metadata": {},
   "outputs": [],
   "source": [
    "def sortedlist(x):\n",
    "    uniquenumbers = set(x)\n",
    "    lstunique = list(uniquenumbers)\n",
    "    return lstunique.sort(reverse = False)\n",
    "sortedlist([1,3,3,4,2,6,9,4])"
   ]
  },
  {
   "cell_type": "markdown",
   "id": "c39d7ce1",
   "metadata": {},
   "source": [
    "Q32:Given a string, create a function that outputs a list, building and deconstructing the string letter by letter. See the examples below for some helpful guidance.\n",
    "Examples\n",
    "\n",
    "construct_deconstruct(\"Hello\") ➞ [\n",
    "  \"H\",\n",
    "  \"He\",\n",
    "  \"Hel\",\n",
    "  \"Hell\",\n",
    "  \"Hello\",\n",
    "  \"Hell\",\n",
    "  \"Hel\",\n",
    "  \"He\",\n",
    "  \"H\"\n",
    "]\n"
   ]
  },
  {
   "cell_type": "code",
   "execution_count": 9,
   "id": "a9bf0200",
   "metadata": {},
   "outputs": [
    {
     "name": "stdout",
     "output_type": "stream",
     "text": [
      " \n",
      "\n",
      "h \n",
      "\n",
      "he \n",
      "\n",
      "hel \n",
      "\n",
      "hell \n",
      "\n",
      "hello \n",
      "\n",
      "hell \n",
      "\n",
      "hel \n",
      "\n",
      "he \n",
      "\n",
      "h \n",
      "\n",
      " \n",
      "\n"
     ]
    }
   ],
   "source": [
    "def consdecons(x):\n",
    "    i = 0\n",
    "    j = len(x)-1\n",
    "    while i in range(len(x)+1):\n",
    "        print (x[0:i:1],'\\n')\n",
    "        i+=1\n",
    "    while j in range(len(x)):\n",
    "        print(x[0:j:1],'\\n')\n",
    "        j-=1\n",
    "consdecons(\"hello\")        "
   ]
  },
  {
   "cell_type": "markdown",
   "id": "d008bd1f",
   "metadata": {},
   "source": [
    "Q32: Given a list of lists, return a new list of lists containing every element, except for the outer elements.\n",
    "Examples\n",
    "\n",
    "peel_layer_off([\n",
    "  [\"a\", \"b\", \"c\", \"d\"],\n",
    "  [\"e\", \"f\", \"g\", \"h\"],\n",
    "  [\"i\", \"j\", \"k\", \"l\"],\n",
    "  [\"m\", \"n\", \"o\", \"p\"]\n",
    "]) ➞ [\n",
    "  [\"f\", \"g\"],\n",
    "  [\"j\", \"k\"]\n",
    "]"
   ]
  },
  {
   "cell_type": "code",
   "execution_count": null,
   "id": "d6b0676a",
   "metadata": {},
   "outputs": [],
   "source": [
    "def peeloff(x):\n",
    "    i = 2\n",
    "    while i in range(len(x)-1):\n",
    "        print(x[i][1:len(x[i])-1:1])\n",
    "        i+=1\n",
    "peeloff([ [\"a\", \"b\", \"c\", \"d\"], [\"e\", \"f\", \"g\", \"h\"], [\"i\", \"j\", \"k\", \"l\"], [\"m\", \"n\", \"o\", \"p\"] ])    \n",
    "        "
   ]
  },
  {
   "cell_type": "markdown",
   "id": "9cff31b3",
   "metadata": {},
   "source": [
    "Q33:A train has a maximum capacity of n passengers overall, which means each carriage's capacity will share an equal proportion of the maximum capacity.\n",
    "\n",
    "Create a function which returns the index of the first carriage which holds 50% or less of its maximum capacity. If no such carriage exists, return -1.\n",
    "Worked Example\n",
    "\n",
    "find_a_seat(200, [35, 23, 18, 10, 40]) ➞ 2\n",
    "\n",
    "There are 5 carriages which each have a maximum capacity of 40 (200 / 5 = 40).\n",
    "Index 0's carriage is too full (35 is 87.5% of the maximum).\n",
    "Index 1's carriage is too full (23 is 57.5% of the maximum).\n",
    "Index 2's carriage is good enough (18 is 45% of the maximum).\n",
    "Return 2."
   ]
  },
  {
   "cell_type": "code",
   "execution_count": 2,
   "id": "5d5fa692",
   "metadata": {},
   "outputs": [
    {
     "data": {
      "text/plain": [
       "2"
      ]
     },
     "execution_count": 2,
     "metadata": {},
     "output_type": "execute_result"
    }
   ],
   "source": [
    "def carriagecapacity(n,x):\n",
    "    eachcarriagecapacity = n/len(x)\n",
    "    halffull = eachcarriagecapacity/2\n",
    "    i =0\n",
    "    summation = 0\n",
    "    while i in range(len(x)):\n",
    "        if x[i] < halffull:\n",
    "            summation +=1\n",
    "        i+=1\n",
    "    return summation\n",
    "carriagecapacity(200,[35,23,18,10,40])"
   ]
  },
  {
   "cell_type": "markdown",
   "id": "8353610c",
   "metadata": {},
   "source": [
    "Q34: Write a function that, given the start_of_range and end_of_range values, returns an array containing all the numbers inclusive to that range. See examples below.\n",
    "Examples\n",
    "\n",
    "reversible_inclusive_list(1, 5) ➞ [1, 2, 3, 4, 5]\n",
    "\n",
    "reversible_inclusive_list(2, 8) ➞ [2, 3, 4, 5, 6, 7, 8]\n",
    "\n",
    "reversible_inclusive_list(10, 20) ➞ [10, 11, 12, 13, 14, 15, 16, 17, 18, 19, 20]\n",
    "\n",
    "reversible_inclusive_list(24, 17) ➞ [24, 23, 22, 21, 20, 19, 18, 17]"
   ]
  },
  {
   "cell_type": "code",
   "execution_count": 4,
   "id": "13f8c3c3",
   "metadata": {},
   "outputs": [
    {
     "data": {
      "text/plain": [
       "[7,\n",
       " 8,\n",
       " 9,\n",
       " 10,\n",
       " 11,\n",
       " 12,\n",
       " 13,\n",
       " 14,\n",
       " 15,\n",
       " 16,\n",
       " 17,\n",
       " 18,\n",
       " 19,\n",
       " 20,\n",
       " 21,\n",
       " 22,\n",
       " 23,\n",
       " 24,\n",
       " 25,\n",
       " 26,\n",
       " 27,\n",
       " 28,\n",
       " 29,\n",
       " 30,\n",
       " 31,\n",
       " 32,\n",
       " 33,\n",
       " 34,\n",
       " 35,\n",
       " 36,\n",
       " 37,\n",
       " 38,\n",
       " 39,\n",
       " 40,\n",
       " 41,\n",
       " 42,\n",
       " 43,\n",
       " 44,\n",
       " 45,\n",
       " 46,\n",
       " 47,\n",
       " 48,\n",
       " 49,\n",
       " 50,\n",
       " 51,\n",
       " 52,\n",
       " 53,\n",
       " 54,\n",
       " 55,\n",
       " 56,\n",
       " 57,\n",
       " 58,\n",
       " 59,\n",
       " 60,\n",
       " 61,\n",
       " 62,\n",
       " 63,\n",
       " 64,\n",
       " 65,\n",
       " 66,\n",
       " 67,\n",
       " 68,\n",
       " 69,\n",
       " 70,\n",
       " 71,\n",
       " 72,\n",
       " 73,\n",
       " 74,\n",
       " 75,\n",
       " 76,\n",
       " 77,\n",
       " 78,\n",
       " 79,\n",
       " 80,\n",
       " 81,\n",
       " 82,\n",
       " 83,\n",
       " 84,\n",
       " 85,\n",
       " 86,\n",
       " 87,\n",
       " 88,\n",
       " 89,\n",
       " 90]"
      ]
     },
     "execution_count": 4,
     "metadata": {},
     "output_type": "execute_result"
    }
   ],
   "source": [
    "def inclusivelist(x, y):\n",
    "    z = list(range(x, y + 1))\n",
    "    return z\n",
    "inclusivelist(7,90)"
   ]
  },
  {
   "cell_type": "markdown",
   "id": "a5b42149",
   "metadata": {},
   "source": [
    "Q35:Write a function that takes a string, and returns a new string with any duplicate consecutive letters removed.\n",
    "Examples\n",
    "\n",
    "unstretch(\"ppoeemm\") ➞ \"poem\"\n",
    "\n",
    "unstretch(\"wiiiinnnnd\") ➞ \"wind\"\n",
    "\n",
    "unstretch(\"ttiiitllleeee\") ➞ \"title\"\n",
    "\n",
    "unstretch(\"cccccaaarrrbbonnnnn\") ➞ \"carbon\""
   ]
  },
  {
   "cell_type": "code",
   "execution_count": 2,
   "id": "34dc85be",
   "metadata": {},
   "outputs": [
    {
     "data": {
      "text/plain": [
       "'poem'"
      ]
     },
     "execution_count": 2,
     "metadata": {},
     "output_type": "execute_result"
    }
   ],
   "source": [
    "def unstretch(s):\n",
    "    # Initialize an empty string to store the result\n",
    "    result = \"\"\n",
    "\n",
    "    # Iterate through the characters in the input string\n",
    "    for i in range(len(s)):\n",
    "        # If the current character is the first character or different from the previous character\n",
    "        if i == 0 or s[i] != s[i - 1]:\n",
    "            # Append the current character to the result string\n",
    "            result += s[i]\n",
    "\n",
    "    return result\n",
    "unstretch(\"ppoeemm\")"
   ]
  },
  {
   "cell_type": "markdown",
   "id": "9c655740",
   "metadata": {},
   "source": [
    "Q36:Given a string, reverse all the words which have odd length. The even length words are not changed.\n",
    "reverse_odd(\"Bananas\") ➞ \"sananaB\"\n"
   ]
  },
  {
   "cell_type": "code",
   "execution_count": 6,
   "id": "cba28acd",
   "metadata": {},
   "outputs": [],
   "source": [
    "def reverseoddstring(x):\n",
    "    z = x.split()\n",
    "    modifiedwords = []\n",
    "    # Iterate through each word in the list\n",
    "    for word in words:\n",
    "        # Check if the length of the word is odd\n",
    "        if len(word) % 2 == 1:\n",
    "            # If odd, reverse the word and add it to the modified list\n",
    "            modifiedwords.append(word[::-1])\n",
    "        else:\n",
    "            # If even, add the word as it is to the modified list\n",
    "            modifiedwords.append(word)\n",
    "\n",
    "    # Reconstruct the modified words into a new string\n",
    "    result = \" \".join(modifiedwords)\n",
    "        \n",
    "            "
   ]
  },
  {
   "cell_type": "markdown",
   "id": "c1e5aa71",
   "metadata": {},
   "source": [
    "Q37:Given a list of numbers, of any length, create a function which counts how many of those numbers pass the following criteria:\n",
    "\n",
    "    The first and last digits of a number must add to 10."
   ]
  },
  {
   "cell_type": "code",
   "execution_count": 11,
   "id": "3dd3ae00",
   "metadata": {},
   "outputs": [
    {
     "data": {
      "text/plain": [
       "3"
      ]
     },
     "execution_count": 11,
     "metadata": {},
     "output_type": "execute_result"
    }
   ],
   "source": [
    "def digitssum10(x):\n",
    "    summation = 0\n",
    "\n",
    "    for num in x:\n",
    "        # Convert the integer to a string to access its first and last digits\n",
    "        num_str = str(num)\n",
    "\n",
    "        # Check if the first and last digits sum up to 10\n",
    "        if int(num_str[0]) + int(num_str[-1]) == 10:\n",
    "            summation += 1\n",
    "\n",
    "    return summation\n",
    "digitssum10([19, 46, 2098])"
   ]
  },
  {
   "cell_type": "markdown",
   "id": "9f42acd2",
   "metadata": {},
   "source": [
    "Q38:In electronics, a digital-to-analog converter (DAC, D/A, or D-to-A) is a system that converts a binary representation of that signal into an analog output. An 8 bit converter can represent a maximum of 2^8 different values, with each successive value differing by 1/256 of the full scale value, this becomes the system resolution.\n",
    "\n",
    "Create a function that takes a decimal number representation of a signal and returns the analog voltage level that would be created by a DAC if it were given the same number in binary.\n",
    "\n",
    "While value range is 0-1023, reference range is 0-5.00 volts. Value and reference is directly proportional.\n",
    "\n",
    "This DAC has 10 bits of resolution and the DAC reference is set at 5.00 volts."
   ]
  },
  {
   "cell_type": "code",
   "execution_count": 2,
   "id": "26416433",
   "metadata": {},
   "outputs": [
    {
     "data": {
      "text/plain": [
       "5.0"
      ]
     },
     "execution_count": 2,
     "metadata": {},
     "output_type": "execute_result"
    }
   ],
   "source": [
    "def dac_conversion(decimal_value):\n",
    "    # Define the number of bits in the DAC\n",
    "    num_bits = 10\n",
    "\n",
    "    # Define the reference voltage in volts\n",
    "    reference_voltage = 5.00\n",
    "\n",
    "    # Calculate the maximum decimal value that can be represented with 10 bits\n",
    "    max_value = 2 ** num_bits - 1\n",
    "\n",
    "    # Calculate the resolution of the DAC (voltage difference between two successive digital values)\n",
    "    resolution = reference_voltage / max_value\n",
    "\n",
    "    # Calculate the analog voltage level based on the input decimal value and the resolution\n",
    "    analog_voltage = decimal_value * resolution\n",
    "\n",
    "    # Return the analog voltage level\n",
    "    return analog_voltage\n",
    "\n",
    "dac_conversion(1023)\n"
   ]
  },
  {
   "cell_type": "markdown",
   "id": "fa7da4c8",
   "metadata": {},
   "source": [
    "Q39.Python got drunk and the built-in functions str() and int() are acting odd:\n",
    "\n",
    "str(4) ➞ 4\n",
    "\n",
    "str(\"4\") ➞ 4\n",
    "\n",
    "int(\"4\") ➞ \"4\"\n",
    "\n",
    "int(4) ➞ \"4\"\n",
    "\n",
    "You need to create two functions to substitute str() and int(). A function called int_to_str() that converts integers into strings and a function called str_to_int() that converts strings into integers."
   ]
  },
  {
   "cell_type": "code",
   "execution_count": 3,
   "id": "3a96e843",
   "metadata": {},
   "outputs": [],
   "source": [
    "def int_to_str(num):\n",
    "    return str(num)\n",
    "\n",
    "def str_to_int(text):\n",
    "    return int(text)"
   ]
  },
  {
   "cell_type": "markdown",
   "id": "c4268098",
   "metadata": {},
   "source": [
    "Q40: Create a function that finds the highest integer in the list using recursion.\n",
    "Examples\n",
    "\n",
    "find_highest([-1, 3, 5, 6, 99, 12, 2]) ➞ 99\n",
    "\n",
    "find_highest([0, 12, 4, 87]) ➞ 87\n",
    "\n",
    "find_highest([8]) ➞ 8"
   ]
  },
  {
   "cell_type": "code",
   "execution_count": 5,
   "id": "a007c568",
   "metadata": {},
   "outputs": [],
   "source": [
    "def find_highest(lst):\n",
    "    if len(lst) == 1:\n",
    "        return lst[0]\n",
    "    else:\n",
    "        # Get the first element of the list\n",
    "        first_element = lst[0]\n",
    "        \n",
    "        # Recursively call the function with the rest of the list\n",
    "        highest_in_rest = find_highest(lst[1:])\n",
    "        \n",
    "        # Compare the first element with the highest in the rest of the list\n",
    "        if first_element > highest_in_rest:\n",
    "            return first_element\n",
    "        else:\n",
    "            return highest_in_rest"
   ]
  },
  {
   "cell_type": "markdown",
   "id": "e86ff9ec",
   "metadata": {},
   "source": [
    "Q41:Write a function that transforms a list of characters into a list of dictionaries, where:\n",
    "\n",
    "    The keys are the characters themselves.\n",
    "    The values are the ASCII codes of those characters.\n",
    "\n",
    "Examples\n",
    "\n",
    "to_dict([\"a\", \"b\", \"c\"]) ➞ [{\"a\": 97}, {\"b\": 98}, {\"c\": 99}]\n",
    "\n",
    "to_dict([\"^\"]) ➞ [{\"^\": 94}]\n",
    "\n",
    "to_dict([]) ➞ []"
   ]
  },
  {
   "cell_type": "code",
   "execution_count": 7,
   "id": "f82109fe",
   "metadata": {},
   "outputs": [],
   "source": [
    "def to_dict(characters):\n",
    "    return [{char: ord(char)} for char in characters]"
   ]
  },
  {
   "cell_type": "markdown",
   "id": "de9df1cf",
   "metadata": {},
   "source": [
    "Q42: Create a function that takes a number as an argument and returns \"Fizz\", \"Buzz\" or \"FizzBuzz\".\n",
    "\n",
    "    If the number is a multiple of 3 the output should be \"Fizz\".\n",
    "    If the number given is a multiple of 5, the output should be \"Buzz\".\n",
    "    If the number given is a multiple of both 3 and 5, the output should be \"FizzBuzz\".\n",
    "    If the number is not a multiple of either 3 or 5, the number should be output on its own as shown in the examples below.\n",
    "    The output should always be a string even if it is not a multiple of 3 or 5."
   ]
  },
  {
   "cell_type": "code",
   "execution_count": 9,
   "id": "5c6f4d2a",
   "metadata": {},
   "outputs": [],
   "source": [
    "def fizz_buzz(num):\n",
    "    if num % 3 == 0 and num % 5 == 0:\n",
    "        return \"FizzBuzz\"\n",
    "    elif num % 3 == 0:\n",
    "        return \"Fizz\"\n",
    "    elif num % 5 == 0:\n",
    "        return \"Buzz\"\n",
    "    else:\n",
    "        return str(num)\n"
   ]
  },
  {
   "cell_type": "markdown",
   "id": "0fecb722",
   "metadata": {},
   "source": [
    "Q43: Write a function that takes coordinates of two points on a two-dimensional plane and returns the length of the line segment connecting those two points.\n",
    "Examples\n",
    "\n",
    "line_length([15, 7], [22, 11]) ➞ 8.06\n",
    "\n",
    "line_length([0, 0], [0, 0]) ➞ 0\n",
    "\n",
    "line_length([0, 0], [1, 1]) ➞ 1.41"
   ]
  },
  {
   "cell_type": "code",
   "execution_count": 11,
   "id": "2307adc9",
   "metadata": {},
   "outputs": [],
   "source": [
    "def line_length(point1, point2):\n",
    "    x1, y1 = point1\n",
    "    x2, y2 = point2\n",
    "    distance =((x2 - x1)**2 + (y2 - y1)**2)\n",
    "    sqrtdis = distance**0.5\n",
    "    return round(sqrtdis, 2)"
   ]
  },
  {
   "cell_type": "markdown",
   "id": "f996f1db",
   "metadata": {},
   "source": [
    "Q44: Write a function that takes a list of numbers and returns a list with two elements:\n",
    "\n",
    "    The first element should be the sum of all even numbers in the list.\n",
    "    The second element should be the sum of all odd numbers in the list.\n",
    "\n",
    "Example\n",
    "\n",
    "sum_odd_and_even([1, 2, 3, 4, 5, 6]) ➞ [12, 9]\n",
    "2 + 4 + 6 = 12 and 1 + 3 + 5 = 9\n",
    "\n",
    "sum_odd_and_even([-1, -2, -3, -4, -5, -6]) ➞ [-12, -9])\n",
    "\n",
    "sum_odd_and_even([0, 0]) ➞ [0, 0])"
   ]
  },
  {
   "cell_type": "code",
   "execution_count": 12,
   "id": "34e4ee03",
   "metadata": {},
   "outputs": [],
   "source": [
    "def sum_odd_and_even(numbers):\n",
    "    sum_even = sum(num for num in numbers if num % 2 == 0)\n",
    "    sum_odd = sum(num for num in numbers if num % 2 != 0)\n",
    "    return [sum_even, sum_odd]"
   ]
  },
  {
   "cell_type": "markdown",
   "id": "af1837b4",
   "metadata": {},
   "source": [
    "Q45: Create a function which takes in a number n as input and returns all numbers up to and including n joined together in a string. Separate each digit from each other with the character \"-\".\n",
    "Examples\n",
    "\n",
    "join_digits(4) ➞ \"1-2-3-4\"\n",
    "\n",
    "join_digits(11) ➞ \"1-2-3-4-5-6-7-8-9-1-0-1-1\"\n",
    "\n",
    "join_digits(15) ➞ \"1-2-3-4-5-6-7-8-9-1-0-1-1-1-2-1-3-1-4-1-5\""
   ]
  },
  {
   "cell_type": "code",
   "execution_count": 14,
   "id": "53d7cfb0",
   "metadata": {},
   "outputs": [],
   "source": [
    "def join_digits(n):\n",
    "    numbers = [str(num) for num in range(1, n + 1)]\n",
    "    return \"-\".join(numbers)"
   ]
  },
  {
   "cell_type": "markdown",
   "id": "db6fe1c1",
   "metadata": {},
   "source": [
    "Q46:Write a function that returns the first n vowels of a string.\n",
    "Examples\n",
    "\n",
    "first_n_vowels(\"sharpening skills\", 3) ➞ \"aei\"\n",
    "\n",
    "first_n_vowels(\"major league\", 5) ➞ \"aoeau\"\n",
    "\n",
    "first_n_vowels(\"hostess\", 5) ➞ \"invalid\""
   ]
  },
  {
   "cell_type": "code",
   "execution_count": 16,
   "id": "ddc14892",
   "metadata": {},
   "outputs": [
    {
     "data": {
      "text/plain": [
       "'aei'"
      ]
     },
     "execution_count": 16,
     "metadata": {},
     "output_type": "execute_result"
    }
   ],
   "source": [
    "def first_n_vowels(text, n):\n",
    "    vowels = \"aeiouAEIOU\"\n",
    "    vowel_count = 0\n",
    "    result = \"\"\n",
    "    \n",
    "    for char in text:\n",
    "        if char in vowels:\n",
    "            result += char\n",
    "            vowel_count += 1\n",
    "            if vowel_count == n:\n",
    "                return result\n",
    "    \n",
    "    return \"invalid\"\n",
    "first_n_vowels(\"sharpening skills\", 3)\n"
   ]
  },
  {
   "cell_type": "markdown",
   "id": "7f5e6e18",
   "metadata": {},
   "source": [
    "Q47: Create a function that, given a number, returns the corresponding value of that index in the Fibonacci series.\n",
    "\n",
    "The Fibonacci Sequence is the series of numbers:\n",
    "\n",
    "1, 1, 2, 3, 5, 8, 13, 21, 34, ..."
   ]
  },
  {
   "cell_type": "code",
   "execution_count": 17,
   "id": "c2767110",
   "metadata": {},
   "outputs": [],
   "source": [
    "def fibonacci(n):\n",
    "    if n <= 0:\n",
    "        return \"Invalid input. Index should be a positive integer.\"\n",
    "    \n",
    "    fib_series = [0, 1]\n",
    "    for i in range(2, n + 1):\n",
    "        next_num = fib_series[i - 1] + fib_series[i - 2]\n",
    "        fib_series.append(next_num)\n",
    "    \n",
    "    return fib_series[n]\n"
   ]
  },
  {
   "cell_type": "markdown",
   "id": "24552469",
   "metadata": {},
   "source": [
    "Q48:This is a reverse coding challenge. Normally you're given explicit directions with how to create a function. Here, you must generate your own function to satisfy the relationship between the inputs and outputs.\n",
    "\n",
    "Your task is to create a function that, when fed the inputs below, produce the sample outputs shown.\n",
    "Examples\n",
    "\n",
    "\"A4B5C2\" ➞ \"AAAABBBBBCC\"\n",
    "\n",
    "\"C2F1E5\" ➞ \"CCFEEEEE\"\n",
    "\n",
    "\"T4S2V2\" ➞ \"TTTTSSVV\"\n",
    "\n",
    "\"A1B2C3D4\" ➞ \"ABBCCCDDDD\""
   ]
  },
  {
   "cell_type": "code",
   "execution_count": 18,
   "id": "32442345",
   "metadata": {},
   "outputs": [],
   "source": [
    "def reverse_coding_challenge(s):\n",
    "    result = \"\"\n",
    "    current_char = \"\"\n",
    "    \n",
    "    for char in s:\n",
    "        if char.isalpha():\n",
    "            current_char = char\n",
    "        else:\n",
    "            result += current_char * int(char)\n",
    "    \n",
    "    return result"
   ]
  },
  {
   "cell_type": "markdown",
   "id": "2fc08baf",
   "metadata": {},
   "source": [
    "Q49: Given a list, create a function that returns a dictionary detailing how many times each element was repeated.\n",
    "Examples\n",
    "\n",
    "count_repetitions([\"cat\", \"dog\", \"cat\", \"cow\", \"cow\", \"cow\"]) ➞ { cow: 3, cat: 2, dog: 1 }\n",
    "\n",
    "count_repetitions([1, 5, 5, 5, 12, 12, 0, 0, 0, 0, 0, 0]) ➞ { 0: 6, 5: 3, 12: 2, 1: 1 }\n",
    "\n",
    "count_repetitions([\"Infinity\", \"null\", \"Infinity\", \"null\", \"null\"]) ➞ { \"null\": 3}"
   ]
  },
  {
   "cell_type": "code",
   "execution_count": 19,
   "id": "2c48bba1",
   "metadata": {},
   "outputs": [],
   "source": [
    "def count_repetitions(lst):\n",
    "    count_dict = {}\n",
    "    for item in lst:\n",
    "        count_dict[item] = count_dict.get(item, 0) + 1\n",
    "    return count_dict"
   ]
  },
  {
   "cell_type": "markdown",
   "id": "7015ad98",
   "metadata": {},
   "source": [
    "Q50: Write a function that takes a string input and returns the string in a reversed case and order.\n",
    "Examples\n",
    "\n",
    "invert(\"dLROW YM sI HsEt\") ➞ \"TeSh iS my worlD\"\n",
    "\n",
    "invert(\"ytInIUgAsnOc\") ➞ \"CoNSaGuiNiTY\"\n",
    "\n",
    "invert(\"step on NO PETS\") ➞ \"step on NO PETS\"\n",
    "\n",
    "invert(\"XeLPMoC YTiReTXeD\") ➞ \"dExtErIty cOmplEx\""
   ]
  },
  {
   "cell_type": "code",
   "execution_count": 20,
   "id": "bcc48347",
   "metadata": {},
   "outputs": [],
   "source": [
    "def invert(s):\n",
    "    return s.swapcase()[::-1]"
   ]
  },
  {
   "cell_type": "markdown",
   "id": "85577c6a",
   "metadata": {},
   "source": [
    "Q51: Create a function that takes an amount of monetary change (e.g. 47 cents) and breaks down the most efficient way that change can be made using USD quarters, dimes, nickels and pennies. Your function should return a dictionary.\n",
    "Coin\tValue\n",
    "Penny\t0.01\n",
    "Nickel\t0.05\n",
    "Dime\t0.10\n",
    "Quarter\t0.25\n",
    "Examples\n",
    "\n",
    "make_change(47) ➞ { \"q\": 1, \"d\": 2, \"n\": 0, \"p\": 2 }\n",
    "\n",
    "make_change(24) ➞ { \"q\": 0, \"d\": 2, \"n\": 0, \"p\": 4 }\n",
    "\n",
    "make_change(92) ➞ { \"q\": 3, \"d\": 1, \"n\": 1, \"p\": 2 }"
   ]
  },
  {
   "cell_type": "code",
   "execution_count": 24,
   "id": "ab4c6de2",
   "metadata": {},
   "outputs": [
    {
     "data": {
      "text/plain": [
       "{'q': 368.0, 'd': 0.0, 'n': 0.0, 'p': 0.0}"
      ]
     },
     "execution_count": 24,
     "metadata": {},
     "output_type": "execute_result"
    }
   ],
   "source": [
    "def make_change(amount):\n",
    "    coins = {\n",
    "        \"q\": 0,  # Quarters\n",
    "        \"d\": 0,  # Dimes\n",
    "        \"n\": 0,  # Nickels\n",
    "        \"p\": 0   # Pennies\n",
    "    }\n",
    "    \n",
    "    coin_values = {\n",
    "        \"q\": 0.25,\n",
    "        \"d\": 0.10,\n",
    "        \"n\": 0.05,\n",
    "        \"p\": 0.01\n",
    "    }\n",
    "    \n",
    "    for coin in coin_values:\n",
    "        num_coins = amount // coin_values[coin]\n",
    "        coins[coin] = num_coins\n",
    "        amount -= num_coins * coin_values[coin]\n",
    "    \n",
    "    return coins\n",
    "\n",
    "\n",
    "make_change(92) "
   ]
  },
  {
   "cell_type": "markdown",
   "id": "fa4538a9",
   "metadata": {},
   "source": [
    "Q52: Wiggled string"
   ]
  },
  {
   "cell_type": "code",
   "execution_count": 27,
   "id": "35d2cf40",
   "metadata": {},
   "outputs": [
    {
     "data": {
      "text/plain": [
       "['Swathi',\n",
       " ' Swathi',\n",
       " '  Swathi',\n",
       " '   Swathi',\n",
       " '    Swathi',\n",
       " '     Swathi',\n",
       " '      Swathi',\n",
       " '     Swathi',\n",
       " '    Swathi',\n",
       " '   Swathi',\n",
       " '  Swathi',\n",
       " ' Swathi',\n",
       " 'Swathi']"
      ]
     },
     "execution_count": 27,
     "metadata": {},
     "output_type": "execute_result"
    }
   ],
   "source": [
    "def wiggle_string(word):\n",
    "    result = []\n",
    "    n = len(word)\n",
    "    \n",
    "    for i in range(2 * n + 1):\n",
    "        spaces = min(i, 2 * n - i)\n",
    "        offset_word = \" \" * spaces + word\n",
    "        result.append(offset_word)\n",
    "    \n",
    "    return result\n",
    "wiggle_string(\"Swathi\")"
   ]
  },
  {
   "cell_type": "markdown",
   "id": "96d231a7",
   "metadata": {},
   "source": [
    "Q53: Given a list of numbers, representing the height of a mountain in certain intervals, return whether this mountain is scalable.\n",
    "\n",
    "A mountain can be considered scalable if each number is within 5 units of the next number in either direction.\n",
    "Examples\n",
    "\n",
    "is_scalable([1, 2, 4, 6, 7, 8]) ➞ True\n",
    "\n",
    "is_scalable([40, 45, 50, 45, 47, 52]) ➞ True\n",
    "\n",
    "is_scalable([2, 9, 11, 10, 18, 21]) ➞ False"
   ]
  },
  {
   "cell_type": "code",
   "execution_count": 30,
   "id": "67a18414",
   "metadata": {},
   "outputs": [
    {
     "data": {
      "text/plain": [
       "True"
      ]
     },
     "execution_count": 30,
     "metadata": {},
     "output_type": "execute_result"
    }
   ],
   "source": [
    "def is_scalable(heights):\n",
    "    for i in range(len(heights) - 1):\n",
    "        if abs(heights[i] - heights[i + 1]) > 5:\n",
    "            return False\n",
    "    return True\n",
    "is_scalable([1, 2, 4, 6, 7, 8])\n"
   ]
  },
  {
   "cell_type": "markdown",
   "id": "4210bf7c",
   "metadata": {},
   "source": [
    "Q54:Given a number, create a function that returns a new number based on these rules:\n",
    "\n",
    "    For each digit, replace it by the number of times it appears in the number.\n",
    "    The final instance of the number will be an integer, not a string.\n",
    "\n",
    "Worked Example\n",
    "\n",
    "digit_count(136116) ➞ 312332\n",
    "The number 1 appears thrice, so replace all 1s with 3s.\n",
    "The number 3 appears only once, so replace all 3s with 1s.\n",
    "The number 6 appears twice, so replace all 6s with 2s.\n",
    "Return as an integer."
   ]
  },
  {
   "cell_type": "code",
   "execution_count": 32,
   "id": "8e9695f9",
   "metadata": {},
   "outputs": [
    {
     "data": {
      "text/plain": [
       "312332"
      ]
     },
     "execution_count": 32,
     "metadata": {},
     "output_type": "execute_result"
    }
   ],
   "source": [
    "def digit_count(number):\n",
    "    digit_counts = {}  # Dictionary to store the count of each digit\n",
    "    \n",
    "    # Count the occurrences of each digit\n",
    "    for digit in str(number):\n",
    "        digit_counts[digit] = digit_counts.get(digit, 0) + 1\n",
    "    \n",
    "    # Create the new number based on digit counts\n",
    "    new_number_str = \"\"\n",
    "    for digit in str(number):\n",
    "        new_number_str += str(digit_counts[digit])\n",
    "    \n",
    "    return int(new_number_str)\n",
    "digit_count(136116)\n"
   ]
  },
  {
   "cell_type": "markdown",
   "id": "5a7daa79",
   "metadata": {},
   "source": [
    "Q55: Write a function that returns all the elements in an array that are strictly greater than their adjacent left and right neighbors.\n",
    "Examples\n",
    "\n",
    "mini_peaks([4, 5, 2, 1, 4, 9, 7, 2]) ➞ [5, 9]\n",
    "5 has neighbours 4 and 2, both are less than 5.\n",
    "\n",
    "mini_peaks([1, 2, 1, 1, 3, 2, 5, 4, 4]) ➞ [2, 3, 5]\n",
    "\n",
    "mini_peaks([1, 2, 3, 4, 5, 6]) ➞ []"
   ]
  },
  {
   "cell_type": "code",
   "execution_count": 35,
   "id": "5cdc3f38",
   "metadata": {},
   "outputs": [
    {
     "data": {
      "text/plain": [
       "[5, 9]"
      ]
     },
     "execution_count": 35,
     "metadata": {},
     "output_type": "execute_result"
    }
   ],
   "source": [
    "def mini_peaks(x):\n",
    "    peaks = []\n",
    "    i = 1\n",
    "    for i in range(len(x) - 1):\n",
    "        if x[i] > x[i - 1] and x[i] > x[i + 1]:\n",
    "            peaks.append(x[i])\n",
    "    return peaks\n",
    "mini_peaks([4, 5, 2, 1, 4, 9, 7, 2])"
   ]
  },
  {
   "cell_type": "markdown",
   "id": "ff001b4a",
   "metadata": {},
   "source": [
    "Q56: Write a function that transforms an array into an array of its differences repeatedly until there exists only one element left. A difference is A[n+1] - A[n].\n",
    "\n",
    "To illustrate:\n",
    "\n",
    "[5, 1, 9, 3, 4, 0]\n",
    "\n",
    "[-4, 8, -6, 1, -4]\n",
    "1 - 5 = -4; 9 - 1 = 8; 3 - 9 = -6; etc.\n",
    "\n",
    "[12, -14, 7, -5]\n",
    "\n",
    "[-26, 21, -12]\n",
    "\n",
    "[47, -33]\n",
    "\n",
    "-80 "
   ]
  },
  {
   "cell_type": "code",
   "execution_count": 37,
   "id": "770fc101",
   "metadata": {},
   "outputs": [
    {
     "data": {
      "text/plain": [
       "-80"
      ]
     },
     "execution_count": 37,
     "metadata": {},
     "output_type": "execute_result"
    }
   ],
   "source": [
    "def diff_red(x):\n",
    "    while len(x) > 1:\n",
    "        new_x = [x[i + 1] - x[i] for i in range(len(x) - 1)]\n",
    "        x = new_x\n",
    "    return x[0] if x else None\n",
    "diff_red([5,1,9,3,4,0])"
   ]
  },
  {
   "cell_type": "markdown",
   "id": "247cc490",
   "metadata": {},
   "source": [
    "Q57: Create a function that produces a random number that contains all numbers from one to five, without any duplicates.\n",
    "Examples\n",
    "\n",
    "12345\n",
    "\n",
    "21345\n",
    "\n",
    "51234"
   ]
  },
  {
   "cell_type": "code",
   "execution_count": 38,
   "id": "d4fe4fe4",
   "metadata": {},
   "outputs": [],
   "source": [
    "import random\n",
    "\n",
    "def random_number():\n",
    "    return int(''.join(random.sample('12345', 5)))"
   ]
  },
  {
   "cell_type": "markdown",
   "id": "18cb57b9",
   "metadata": {},
   "source": [
    "Q58: Suppose an image can be represented as a 2D list of 0s and 1s. Create a function to reverse an image. Replace the 0s with 1s and vice versa.\n",
    "Examples\n",
    "\n",
    "reverse_image([\n",
    "  [1, 0, 0],\n",
    "  [0, 1, 0],\n",
    "  [0, 0, 1]\n",
    "]) ➞ [\n",
    "  [0, 1, 1],\n",
    "  [1, 0, 1],\n",
    "  [1, 1, 0]\n",
    "]\n"
   ]
  },
  {
   "cell_type": "code",
   "execution_count": 40,
   "id": "94a9cf0f",
   "metadata": {},
   "outputs": [
    {
     "data": {
      "text/plain": [
       "[[0, 1, 1], [1, 0, 1], [1, 1, 0]]"
      ]
     },
     "execution_count": 40,
     "metadata": {},
     "output_type": "execute_result"
    }
   ],
   "source": [
    "def reverse_image(image):\n",
    "    for i in range(len(image)):\n",
    "        for j in range(len(image[i])):\n",
    "            image[i][j] = 1 - image[i][j]\n",
    "    return image\n",
    "reverse_image([ [1, 0, 0], [0, 1, 0], [0, 0, 1] ]) "
   ]
  },
  {
   "cell_type": "markdown",
   "id": "84438a5a",
   "metadata": {},
   "source": [
    "Q59:The Russian schoty is type of abacus (counting tool) that is used by sliding threaded beads along horizontal wires. An example schoty would have 7 wires, each holding 10 beads. Each bead, when moved to the left, would count as 1 unit. Starting from the bottom wire and moving up, the units increase by a factor of 10. If we use \"O\" for a bead and \"-\" to show the wire, we can represent the schoty as follows:\n",
    "\n",
    "---OOOOOOOOOO  millions\n",
    "---OOOOOOOOOO  hundred-thousands\n",
    "---OOOOOOOOOO  ten-thousands\n",
    "---OOOOOOOOOO  thousands\n",
    "---OOOOOOOOOO  hundreds\n",
    "---OOOOOOOOOO  tens\n",
    "---OOOOOOOOOO  ones\n",
    "\n",
    "To read the number, we count the beads on the left-hand side of each wire. In the example below, the number is 501264:\n",
    "\n",
    "---OOOOOOOOOO  0\n",
    "OOOOO---OOOOO  5\n",
    "---OOOOOOOOOO  0\n",
    "O---OOOOOOOOO  1\n",
    "OO---OOOOOOOO  2\n",
    "OOOOOO---OOOO  6\n",
    "OOOO---OOOOOO  4\n",
    "\n",
    "Given a list of strings representing each wire in the schoty, return the number being displayed."
   ]
  },
  {
   "cell_type": "code",
   "execution_count": 42,
   "id": "6aa366e9",
   "metadata": {},
   "outputs": [
    {
     "data": {
      "text/plain": [
       "11111110"
      ]
     },
     "execution_count": 42,
     "metadata": {},
     "output_type": "execute_result"
    }
   ],
   "source": [
    "def schoty(wires):\n",
    "    units = [1, 10, 100, 1000, 10000, 100000, 1000000]\n",
    "    number = 0\n",
    "\n",
    "    for i in range(len(wires)):\n",
    "        num_beads = wires[i].count(\"O\")\n",
    "        number += num_beads * units[i]\n",
    "\n",
    "    return number\n"
   ]
  },
  {
   "cell_type": "markdown",
   "id": "0a63a3ef",
   "metadata": {},
   "source": [
    "Q60:Given a list of words, return the longest word which can fit on a 7 segment display.\n",
    "\n",
    "\n",
    "    Letters which do not fit on a 7 segment display are k, m, v, w and x.\n",
    "    Therefore, do not count words which include these letters."
   ]
  },
  {
   "cell_type": "code",
   "execution_count": 45,
   "id": "60924830",
   "metadata": {},
   "outputs": [
    {
     "data": {
      "text/plain": [
       "'parental'"
      ]
     },
     "execution_count": 45,
     "metadata": {},
     "output_type": "execute_result"
    }
   ],
   "source": [
    "def longest(words):\n",
    "    valid_words = [word for word in words if all(letter not in 'kmvwx' for letter in word)]\n",
    "    return max(valid_words, key=len, default=None)\n",
    "\n",
    "longest([\"knighthood\", \"parental\", \"fridge\", \"clingfilm\"])"
   ]
  },
  {
   "cell_type": "code",
   "execution_count": null,
   "id": "eb00c64a",
   "metadata": {},
   "outputs": [],
   "source": []
  }
 ],
 "metadata": {
  "kernelspec": {
   "display_name": "Python 3 (ipykernel)",
   "language": "python",
   "name": "python3"
  },
  "language_info": {
   "codemirror_mode": {
    "name": "ipython",
    "version": 3
   },
   "file_extension": ".py",
   "mimetype": "text/x-python",
   "name": "python",
   "nbconvert_exporter": "python",
   "pygments_lexer": "ipython3",
   "version": "3.10.9"
  }
 },
 "nbformat": 4,
 "nbformat_minor": 5
}
