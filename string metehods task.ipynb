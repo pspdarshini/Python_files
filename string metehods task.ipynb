{
 "cells": [
  {
   "cell_type": "markdown",
   "id": "77bd2afd",
   "metadata": {},
   "source": [
    "* <b><u>isalnum()</u></b> method is a string method in Python that checks whether all characters in a string are alphanumeric. It returns True if all characters are alphanumeric, and False otherwise.\n",
    "* <u><b>isalpha()</b></u> method is a string method in Python that checks whether all characters in a string are alphabets.It returns True if all characters are alphabets, and False otherwise.\n",
    "* <u><b>isascii()</b></u> method is a string method in Python that checks whether all characters in a string are ASCII characters.It returns True if all characters are ASCII, and False otherwise.\n",
    "* <u><b>isdecimal()</b></u> method is a string method in Python that checks whether all characters in a string are decimal characters.It returns True if all characters are decimal digits (0-9), and False otherwise.\n",
    "* <u><b>isdigit()</b></u> method is a string method in Python that checks whether all characters in a string are digits. It returns True if all characters are numeric digits (0-9), and False otherwise.\n",
    "    * isdigit() considers fractions, superscripts and subscripts\n",
    "* <u><b>isidentifier()</b></u>  This method checks whether a string is a valid identifier in Python. \n",
    "    * It returns True if the string is a valid identifier, and False otherwise.\n",
    "    * An identifier is a sequence of letters, digits, and underscores, starting with a letter or an underscore,and cannot be a reserved word. \n",
    "* <u><b>islower()</b></u>: This method checks whether all characters in a string are lowercase. It returns True if all characters are lowercase, and False otherwise\n",
    "* <u><b>isnumeric()</b></u> This method checks whether all characters in a string are numeric.\n",
    "    * It returns True if all characters are numeric, and False otherwise. \n",
    "    * It includes characters from various scripts that are considered numeric.\n",
    "* <u><b>isprintable()</b></u> This method checks whether all characters in a string are printable. \n",
    "    * It returns True if all characters are printable, and False otherwise.\n",
    "    * Printable characters include alphanumeric characters, symbols, and whitespace.\n",
    "* <u><b>istitle()</b></u> This method checks whether a string follows titlecase capitalization. \n",
    "    * It returns True if the string is in titlecase format, and False otherwise. \n",
    "    * A string is considered to be in titlecase if all words start with an uppercase letter and the remaining characters are lowercase.\n",
    "*  <u><b>isupper()</b></u> is a string method which checks if all the characters given in the string are in uppercase \n",
    "    * it returns a true if all aree in uppercase and false even if single character is in lowercase\n",
    "* isspace(): This method checks whether all characters in a string are whitespace characters. \n",
    "    * It returns True if all characters are whitespace, and False otherwise. \n",
    "    * Whitespace characters include spaces, tabs, newlines, etc.\n",
    "\n",
    "    "
   ]
  },
  {
   "cell_type": "code",
   "execution_count": 1,
   "id": "3974ff2b",
   "metadata": {},
   "outputs": [
    {
     "name": "stdout",
     "output_type": "stream",
     "text": [
      "False True\n"
     ]
    }
   ],
   "source": [
    "#isalnum()\n",
    "\n",
    "x= '123@qwer'\n",
    "y='12345'\n",
    "print (x.isalnum(),y.isalnum())"
   ]
  },
  {
   "cell_type": "code",
   "execution_count": 2,
   "id": "73fda794",
   "metadata": {},
   "outputs": [
    {
     "name": "stdout",
     "output_type": "stream",
     "text": [
      "False True\n"
     ]
    }
   ],
   "source": [
    "#isalpha()\n",
    "x= '123@qwer'\n",
    "y='swathi'\n",
    "print(x.isalpha(),y.isalpha())"
   ]
  },
  {
   "cell_type": "code",
   "execution_count": 3,
   "id": "37549c2d",
   "metadata": {},
   "outputs": [
    {
     "name": "stdout",
     "output_type": "stream",
     "text": [
      "True False\n"
     ]
    }
   ],
   "source": [
    "#isascii()\n",
    "x='123dfr&'\n",
    "y='Umlaut ä, ü, ö, ß'\n",
    "print(x.isascii(),y.isascii())"
   ]
  },
  {
   "cell_type": "code",
   "execution_count": 4,
   "id": "309d8ce4",
   "metadata": {},
   "outputs": [
    {
     "name": "stdout",
     "output_type": "stream",
     "text": [
      "False False False\n"
     ]
    }
   ],
   "source": [
    "#isdecimal()\n",
    "x='swathi'\n",
    "y='2345 1/4' # isdecimal() doesnt consider float or anyother fractions\n",
    "z='13.456'\n",
    "print(x.isdecimal(),y.isdecimal(),z.isdecimal())"
   ]
  },
  {
   "cell_type": "code",
   "execution_count": 5,
   "id": "17c77ffe",
   "metadata": {},
   "outputs": [
    {
     "name": "stdout",
     "output_type": "stream",
     "text": [
      "False False False\n"
     ]
    }
   ],
   "source": [
    "#isdigit()\n",
    "x='3.4'\n",
    "y='1234 1/4' # isdigit() considers fractions, superscripts and subscripts\n",
    "z='a123erd'\n",
    "print(x.isdigit(),y.isdigit(),z.isdigit())"
   ]
  },
  {
   "cell_type": "code",
   "execution_count": 6,
   "id": "ae55959c",
   "metadata": {},
   "outputs": [
    {
     "name": "stdout",
     "output_type": "stream",
     "text": [
      "True True False\n"
     ]
    }
   ],
   "source": [
    "# isidentifier()\n",
    "x='my_home123'\n",
    "y='swathi'\n",
    "z='_swathi@123'\n",
    "print(x.isidentifier(),y.isidentifier(),z.isidentifier())"
   ]
  },
  {
   "cell_type": "code",
   "execution_count": 7,
   "id": "200413d7",
   "metadata": {},
   "outputs": [
    {
     "name": "stdout",
     "output_type": "stream",
     "text": [
      "False True False\n"
     ]
    }
   ],
   "source": [
    "#islower()\n",
    "x='LAKSHYA PRIYADARSINI'\n",
    "Y='hanvika krishna'\n",
    "z='vAMSI krishna'\n",
    "print(x.islower(),y.islower(),z.islower())"
   ]
  },
  {
   "cell_type": "code",
   "execution_count": 8,
   "id": "4934d356",
   "metadata": {},
   "outputs": [
    {
     "name": "stdout",
     "output_type": "stream",
     "text": [
      "True False\n"
     ]
    }
   ],
   "source": [
    "#isnumeric()\n",
    "x='12346789'\n",
    "y='swa@1234rdvhcj'\n",
    "print(x.isnumeric(),y.isnumeric())"
   ]
  },
  {
   "cell_type": "code",
   "execution_count": 9,
   "id": "ea7875b9",
   "metadata": {},
   "outputs": [
    {
     "name": "stdout",
     "output_type": "stream",
     "text": [
      "True False False\n",
      "False False True\n"
     ]
    }
   ],
   "source": [
    "#istitle()\n",
    "x= 'Seismic Hazard Assesment'\n",
    "y='seismic hazard assessment'\n",
    "z= 'SEISMIC HAZARD ASSESSMENT'\n",
    "# isupper() is a string method which checks if all the characters given in the string are in uppercase \n",
    "# it returns a true if all aree in uppercase and false even if single character is in lowercase\n",
    "print(x.istitle(),y.istitle(),z.istitle())\n",
    "print(x.isupper(),y.isupper(),z.isupper())\n"
   ]
  },
  {
   "cell_type": "code",
   "execution_count": 10,
   "id": "d3d3d28a",
   "metadata": {},
   "outputs": [
    {
     "name": "stdout",
     "output_type": "stream",
     "text": [
      "True True False\n"
     ]
    }
   ],
   "source": [
    "#isspace()\n",
    "x='  \\t '\n",
    "z='swa  thi'\n",
    "y=' \\n'\n",
    "print(x.isspace(),y.isspace(),z.isspace())"
   ]
  },
  {
   "cell_type": "code",
   "execution_count": null,
   "id": "1507743d",
   "metadata": {},
   "outputs": [],
   "source": []
  }
 ],
 "metadata": {
  "kernelspec": {
   "display_name": "Python 3 (ipykernel)",
   "language": "python",
   "name": "python3"
  },
  "language_info": {
   "codemirror_mode": {
    "name": "ipython",
    "version": 3
   },
   "file_extension": ".py",
   "mimetype": "text/x-python",
   "name": "python",
   "nbconvert_exporter": "python",
   "pygments_lexer": "ipython3",
   "version": "3.10.9"
  }
 },
 "nbformat": 4,
 "nbformat_minor": 5
}
