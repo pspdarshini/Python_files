{
 "cells": [
  {
   "cell_type": "markdown",
   "id": "131f0f6b",
   "metadata": {},
   "source": [
    "# Easy Questions (1-20)"
   ]
  },
  {
   "cell_type": "markdown",
   "id": "6e032ea1",
   "metadata": {},
   "source": [
    "Q1: Create a function that takes an array of values resistance that are connected in series, and calculates the total resistance of the circuit in ohms. The ohm is the standard unit of electrical resistance in the International System of Units ( SI ). Examples\n",
    "\n",
    "series_resistance([1, 5, 6, 3]) ➞ \"15 ohms\"\n"
   ]
  },
  {
   "cell_type": "code",
   "execution_count": 1,
   "id": "e510b3a2",
   "metadata": {},
   "outputs": [
    {
     "data": {
      "text/plain": [
       "15"
      ]
     },
     "execution_count": 1,
     "metadata": {},
     "output_type": "execute_result"
    }
   ],
   "source": [
    "def resistance(x):\n",
    "    summation =0\n",
    "    i = 0\n",
    "    for i in range(len(x)):\n",
    "        summation +=x[i]\n",
    "    i+=1\n",
    "    return summation\n",
    "resistance([1, 5, 6, 3])"
   ]
  },
  {
   "cell_type": "markdown",
   "id": "27cfbd52",
   "metadata": {},
   "source": [
    "Q2:Create a function which concatenates the number 7 to the end of every chord in a list. Ignore all chords which already end with 7.\n",
    "Examples\n",
    "\n",
    "jazzify([\"G\", \"F\", \"C\"]) ➞ [\"G7\", \"F7\", \"C7\"]"
   ]
  },
  {
   "cell_type": "code",
   "execution_count": 2,
   "id": "b6c44b84",
   "metadata": {},
   "outputs": [
    {
     "data": {
      "text/plain": [
       "['G7', 'F7', 'C7', 'h7']"
      ]
     },
     "execution_count": 2,
     "metadata": {},
     "output_type": "execute_result"
    }
   ],
   "source": [
    "def jazzify(x):\n",
    "    i = 0\n",
    "    for i in range(len(x)):\n",
    "        if x[i][-1] != \"7\":\n",
    "            x[i] = x[i]+\"7\"\n",
    "        else:\n",
    "            x[i] = x[i]\n",
    "        i+=1\n",
    "    return x\n",
    "jazzify([\"G7\", \"F7\", \"C7\",\"h\"])           \n",
    "            "
   ]
  },
  {
   "cell_type": "markdown",
   "id": "b6585d78",
   "metadata": {},
   "source": [
    "Q3: decimal to binary"
   ]
  },
  {
   "cell_type": "code",
   "execution_count": 22,
   "id": "f9e24a90",
   "metadata": {},
   "outputs": [],
   "source": [
    "def decimal_to_binary(decimal_str):\n",
    "    decimal_num = int(decimal_str)\n",
    "    binary_str = bin(decimal_num)[2:]\n",
    "    return binary_str\n"
   ]
  },
  {
   "cell_type": "markdown",
   "id": "e5ff0786",
   "metadata": {},
   "source": [
    "Q4:Create a function that takes a string and returns the number (count) of vowels contained within it."
   ]
  },
  {
   "cell_type": "code",
   "execution_count": 6,
   "id": "e7f93414",
   "metadata": {},
   "outputs": [],
   "source": [
    "def count_vowels(input_string):\n",
    "    # Define a set of vowels for efficient membership testing\n",
    "    vowels = set(\"aeiouAEIOU\")\n",
    "\n",
    "    # Initialize a variable to keep track of the vowel count\n",
    "    vowel_count = 0\n",
    "\n",
    "    # Iterate through each character in the input string\n",
    "    for char in input_string:\n",
    "        # Check if the character is a vowel (present in the vowels set)\n",
    "        if char in vowels:\n",
    "            vowel_count += 1\n",
    "\n",
    "    return vowel_count\n"
   ]
  },
  {
   "cell_type": "markdown",
   "id": "2c440213",
   "metadata": {},
   "source": [
    "Q5:Create a function that takes a list and finds the integer which appears an odd number of times."
   ]
  },
  {
   "cell_type": "code",
   "execution_count": null,
   "id": "c00d8426",
   "metadata": {},
   "outputs": [],
   "source": [
    "def oddtimeinteger(x):\n",
    "    i = 0\n",
    "    z = []\n",
    "    while i in range(len(x)):\n",
    "        if x.count(x[i]) % 2 == 0:\n",
    "            z.append(x[i])\n",
    "            i+=1\n",
    "    return z\n",
    "oddtimeinteger([-1,1,2,3,-1,-1,2,3])       \n",
    "    "
   ]
  },
  {
   "cell_type": "markdown",
   "id": "cba61132",
   "metadata": {},
   "source": [
    "Q6:Hamming distance is the number of characters that differ between two strings.\n",
    "\n",
    "To illustrate:\n",
    "\n",
    "String1: \"abcbba\"\n",
    "String2: \"abcbda\"\n",
    "\n",
    "Hamming Distance: 1 - \"b\" vs. \"d\" is the only difference."
   ]
  },
  {
   "cell_type": "code",
   "execution_count": null,
   "id": "2a0de48f",
   "metadata": {},
   "outputs": [],
   "source": [
    "def hammingdistance(a,b):\n",
    "    diff =0\n",
    "    for i in range(len(a)):\n",
    "        if a[i] != b[i]:\n",
    "            diff+=1\n",
    "        i+=1\n",
    "    return diff\n",
    "     \n",
    "    "
   ]
  },
  {
   "cell_type": "markdown",
   "id": "73125ffd",
   "metadata": {},
   "source": [
    "Q7:Create a function that takes a list of non-negative integers and strings and return a new list without the strings."
   ]
  },
  {
   "cell_type": "code",
   "execution_count": 11,
   "id": "8d54889d",
   "metadata": {},
   "outputs": [
    {
     "data": {
      "text/plain": [
       "[2, 3, 4, 5]"
      ]
     },
     "execution_count": 11,
     "metadata": {},
     "output_type": "execute_result"
    }
   ],
   "source": [
    "def intlist(x):\n",
    "    # Create an empty list `z` to store the integer elements from the input list `x`.\n",
    "    z = []\n",
    "    i = 0\n",
    "     # Start a while loop that will run as long as `i` is within the range of the length of list `x`.\n",
    "    while i in range(len(x)):\n",
    "        # Check if the element at index `i` in `x` is of type `int`.\n",
    "        if type(x[i]) == int:\n",
    "            # If the element is an integer, append it to the list `z`.\n",
    "            z.append(x[i])\n",
    "        \n",
    "        # Increment `i` by 1 to move to the next index in the list `x`.\n",
    "        i += 1\n",
    "        \n",
    "    # The loop has finished. Return the list `z` containing only the integer elements from the input list `x`.\n",
    "    return z\n",
    "intlist([2,3,4,\"swa\",5,\"thi\"])"
   ]
  },
  {
   "cell_type": "markdown",
   "id": "1c7d1607",
   "metadata": {},
   "source": [
    "Q8:Given a list of numbers, create a function which returns the list but with each element's index in the list added to itself. This means you add 0 to the number at index 0, add 1 to the number at index 1, etc..."
   ]
  },
  {
   "cell_type": "code",
   "execution_count": null,
   "id": "a581b8a4",
   "metadata": {},
   "outputs": [],
   "source": [
    "def sumindex(x):\n",
    "    z = []\n",
    "    i = 0\n",
    "    while i in range(len(x)):\n",
    "        z.append(x[i]+i)\n",
    "        i+=1\n",
    "    return z"
   ]
  },
  {
   "cell_type": "markdown",
   "id": "3beb88de",
   "metadata": {},
   "source": [
    "Q9:This Triangular Number Sequence is generated from a pattern of dots that form a triangle. The first 5 numbers of the sequence, or dots, are:\n",
    "\n",
    "1, 3, 6, 10, 15"
   ]
  },
  {
   "cell_type": "code",
   "execution_count": null,
   "id": "49dde2b0",
   "metadata": {},
   "outputs": [],
   "source": [
    "def triangle(x):\n",
    "    i = 1\n",
    "    summation = 0\n",
    "    while i in range(x+1):\n",
    "        summation = summation+i\n",
    "        i +=1\n",
    "    return summation"
   ]
  },
  {
   "cell_type": "markdown",
   "id": "5ef6f514",
   "metadata": {},
   "source": [
    "Q10:In BlackJack, cards are counted with -1, 0, 1 values:\n",
    "\n",
    "    2, 3, 4, 5, 6 are counted as +1\n",
    "    7, 8, 9 are counted as 0\n",
    "    10, J, Q, K, A are counted as -1\n",
    "\n",
    "Create a function that counts the number and returns it from the list of cards provided."
   ]
  },
  {
   "cell_type": "code",
   "execution_count": 6,
   "id": "b9bf8758",
   "metadata": {},
   "outputs": [
    {
     "data": {
      "text/plain": [
       "1"
      ]
     },
     "execution_count": 6,
     "metadata": {},
     "output_type": "execute_result"
    }
   ],
   "source": [
    "def countofcards(x):\n",
    "    list1 = [2,3,4,5,6]\n",
    "    list2 = [7,8,9]\n",
    "    list3 = [10,\"J\",\"Q\",\"K\",\"A\"]\n",
    "    i = 0\n",
    "    count = 0\n",
    "    for i in range(len(x)):\n",
    "        if x[i] in list1:\n",
    "            count +=1\n",
    "        elif x[i] in list2:\n",
    "            count +=0\n",
    "        elif x[i] in list3:\n",
    "            count -=1\n",
    "        i+=1\n",
    "    return count\n",
    "countofcards([5, 9, 10, 3, \"J\", \"A\", 4, 8, 5])    "
   ]
  },
  {
   "cell_type": "markdown",
   "id": "3b6ddca8",
   "metadata": {},
   "source": [
    "Q11: Write a function that takes a list of elements and returns only the strings."
   ]
  },
  {
   "cell_type": "code",
   "execution_count": 10,
   "id": "8fb2dc13",
   "metadata": {},
   "outputs": [
    {
     "data": {
      "text/plain": [
       "['swa', 'thi']"
      ]
     },
     "execution_count": 10,
     "metadata": {},
     "output_type": "execute_result"
    }
   ],
   "source": [
    "def intlist(x):\n",
    "    z = []\n",
    "    i = 0\n",
    "    while i in range(len(x)):\n",
    "        if type(x[i]) == str:\n",
    "            z.append(x[i])\n",
    "        i += 1\n",
    "    return z\n",
    "\n",
    "intlist([2, 3, 4, \"swa\", 5, \"thi\"])"
   ]
  },
  {
   "cell_type": "markdown",
   "id": "db7c8080",
   "metadata": {},
   "source": [
    "Q12: An isogram is a word that has no duplicate letters. Create a function that takes a string and returns either True or False depending on whether or not it's an \"isogram\"."
   ]
  },
  {
   "cell_type": "code",
   "execution_count": 18,
   "id": "ee8bd93e",
   "metadata": {},
   "outputs": [
    {
     "data": {
      "text/plain": [
       "False"
      ]
     },
     "execution_count": 18,
     "metadata": {},
     "output_type": "execute_result"
    }
   ],
   "source": [
    "def isogram(x):\n",
    "    x = x.lower()\n",
    "    isogramset = set(x)\n",
    "    if len(x) == len(isogramset):\n",
    "        return True\n",
    "    else:\n",
    "        return False\n",
    "isogram(\"PasSword\")"
   ]
  },
  {
   "cell_type": "markdown",
   "id": "6ff4f92e",
   "metadata": {},
   "source": [
    "Q13: write a program to take a list of numbers and gives even numbers list and odd numbers list seperately"
   ]
  },
  {
   "cell_type": "code",
   "execution_count": 21,
   "id": "7046fc3c",
   "metadata": {},
   "outputs": [
    {
     "data": {
      "text/plain": [
       "([2, 4, 6, 8, 10], [1, 3, 5, 7, 9])"
      ]
     },
     "execution_count": 21,
     "metadata": {},
     "output_type": "execute_result"
    }
   ],
   "source": [
    "def evenodd(n):\n",
    "    i = 1\n",
    "    even= []\n",
    "    odd = []\n",
    "    while i < (n+1):\n",
    "        if i%2==0:\n",
    "            even.append(i)\n",
    "        else:\n",
    "            odd.append(i)\n",
    "        i+=1\n",
    "    return (even,odd)\n",
    "evenodd(10)"
   ]
  },
  {
   "cell_type": "markdown",
   "id": "f868e208",
   "metadata": {},
   "source": [
    "Q14:Given a list of numbers, write a function that returns a list that...\n",
    "\n",
    "    Has all duplicate elements removed.\n",
    "    Is sorted from least to greatest value."
   ]
  },
  {
   "cell_type": "code",
   "execution_count": 1,
   "id": "07670377",
   "metadata": {},
   "outputs": [],
   "source": [
    "def remove_duplicates_and_sort(numbers):\n",
    "    return sorted(set(numbers))"
   ]
  },
  {
   "cell_type": "markdown",
   "id": "625f8527",
   "metadata": {},
   "source": [
    "Q15:Create a function that takes a dictionary of student names and returns a list of student names in alphabetical order.\n",
    "Examples\n",
    "\n",
    "get_student_names({\n",
    "  \"Student 1\" : \"Steve\",\n",
    "  \"Student 2\" : \"Becky\",\n",
    "  \"Student 3\" : \"John\"\n",
    "}) ➞ [\"Becky\", \"John\", \"Steve\"]"
   ]
  },
  {
   "cell_type": "code",
   "execution_count": 2,
   "id": "d65bcdf1",
   "metadata": {},
   "outputs": [],
   "source": [
    "def get_student_names(student_dict):\n",
    "    return sorted(student_dict.values())"
   ]
  },
  {
   "cell_type": "markdown",
   "id": "8d07375a",
   "metadata": {},
   "source": [
    "Create a function that takes in two lists: the list of user-typed words, and the list of correctly-typed words and outputs a list containing 1s (correctly-typed words) and -1s (incorrectly-typed words).\n",
    "\n",
    "#Inputs:\n",
    "User-typed: [\"cat\", \"blue\", \"skt\", \"umbrells\", \"paddy\"]\n",
    "Correct: [\"cat\", \"blue\", \"sky\", \"umbrella\", \"paddy\"]\n",
    "\n",
    "Output: [1, 1, -1, -1, 1]"
   ]
  },
  {
   "cell_type": "code",
   "execution_count": 5,
   "id": "ac3c09cc",
   "metadata": {},
   "outputs": [
    {
     "data": {
      "text/plain": [
       "[1, 1, -1, -1, 1]"
      ]
     },
     "execution_count": 5,
     "metadata": {},
     "output_type": "execute_result"
    }
   ],
   "source": [
    "def check_typing(user_typed, correct):\n",
    "    i = 0\n",
    "    z = []\n",
    "    while i in range(len(user_typed)):\n",
    "        if user_typed[i] ==correct[i]:\n",
    "            z.append(1)\n",
    "        else:\n",
    "            z.append(-1)\n",
    "        i+=1\n",
    "    return z\n",
    "check_typing([\"cat\", \"blue\", \"skt\", \"umbrells\", \"paddy\"],[\"cat\", \"blue\", \"sky\", \"umbrella\", \"paddy\"])"
   ]
  },
  {
   "cell_type": "markdown",
   "id": "4ece900f",
   "metadata": {},
   "source": [
    "Q17:Create a function which returns a list of booleans, from a given number. Iterating through the number one digit at a time, append True if the digit is 1 and False if it is 0.\n",
    "Examples\n",
    "\n",
    "integer_boolean(\"100101\") ➞ [True, False, False, True, False, True]\n",
    "\n",
    "integer_boolean(\"10\") ➞ [True, False]\n",
    "\n",
    "integer_boolean(\"001\") ➞ [False, False, True]"
   ]
  },
  {
   "cell_type": "code",
   "execution_count": 6,
   "id": "b00d3bcc",
   "metadata": {},
   "outputs": [],
   "source": [
    "def integer_boolean(num_str):\n",
    "    return [digit == '1' for digit in num_str]"
   ]
  },
  {
   "cell_type": "markdown",
   "id": "8252423b",
   "metadata": {},
   "source": [
    "Q18: ou are given a list of dates in the format Dec 11 and a month in the format Dec as arguments. Each date represents a video that was uploaded on that day. Return the number of uploads for a given month.\n",
    "Examples\n",
    "\n",
    "upload_count([\"Sept 22\", \"Sept 21\", \"Oct 15\"], \"Sept\") ➞ 2\n",
    "\n",
    "upload_count([\"Sept 22\", \"Sept 21\", \"Oct 15\"], \"Oct\") ➞ 1"
   ]
  },
  {
   "cell_type": "code",
   "execution_count": 7,
   "id": "045611ac",
   "metadata": {},
   "outputs": [],
   "source": [
    "def upload_count(dates_list, month):\n",
    "    count = 0\n",
    "    for date in dates_list:\n",
    "        if date.startswith(month):\n",
    "            count += 1\n",
    "    return count"
   ]
  },
  {
   "cell_type": "markdown",
   "id": "a1b14bfe",
   "metadata": {},
   "source": [
    "Q19:Create a function, that will for a given a, b, c, do the following:\n",
    "\n",
    "    Add a to itself b times.\n",
    "    Check if the result is divisible by c.\n",
    "\n",
    "Examples\n",
    "\n",
    "abcmath(42, 5, 10) ➞ False\n",
    "42+42 = 84,84+84 = 168,168+168 = 336,336+336 = 672, 672+672 = 1344\n",
    "1344 is not divisible by 10\n",
    "\n",
    "abcmath(5, 2, 1) ➞ True\n",
    "\n",
    "abcmath(1, 2, 3) ➞ False"
   ]
  },
  {
   "cell_type": "code",
   "execution_count": 10,
   "id": "40598a9a",
   "metadata": {},
   "outputs": [
    {
     "data": {
      "text/plain": [
       "False"
      ]
     },
     "execution_count": 10,
     "metadata": {},
     "output_type": "execute_result"
    }
   ],
   "source": [
    "def abcmath(a, b, c):\n",
    "    result = a\n",
    "    for _ in range(b):\n",
    "        result += result\n",
    "    return result % c == 0\n",
    "\n",
    "abcmath(42, 5, 10) "
   ]
  },
  {
   "cell_type": "markdown",
   "id": "e795587b",
   "metadata": {},
   "source": [
    "Q20:I'm trying to watch some lectures to study for my next exam but I keep getting distracted by meme compilations, vine compilations, anime, and more on my favorite video platform.\n",
    "\n",
    "Your job is to help me create a function that takes a string and checks to see if it contains the following words or phrases:\n",
    "\n",
    "    \"anime\"\n",
    "    \"meme\"\n",
    "    \"vines\"\n",
    "    \"roasts\"\n",
    "    \"Danny DeVito\"\n",
    "\n",
    "If it does, return \"NO!\". Otherwise, return \"Safe watching!\"."
   ]
  },
  {
   "cell_type": "code",
   "execution_count": 11,
   "id": "4319c079",
   "metadata": {},
   "outputs": [],
   "source": [
    "def distraction_checker(text):\n",
    "    keywords = [\"anime\", \"meme\", \"vines\", \"roasts\", \"Danny DeVito\"]\n",
    "    for keyword in keywords:\n",
    "        if keyword in text:\n",
    "            return \"NO!\"\n",
    "    return \"Safe watching!\""
   ]
  },
  {
   "cell_type": "code",
   "execution_count": 13,
   "id": "88d34b04",
   "metadata": {},
   "outputs": [
    {
     "data": {
      "text/plain": [
       "'NO!'"
      ]
     },
     "execution_count": 13,
     "metadata": {},
     "output_type": "execute_result"
    }
   ],
   "source": [
    "distraction_checker(\"vines that butter my eggroll\")"
   ]
  },
  {
   "cell_type": "code",
   "execution_count": null,
   "id": "62ad8867",
   "metadata": {},
   "outputs": [],
   "source": []
  }
 ],
 "metadata": {
  "kernelspec": {
   "display_name": "Python 3 (ipykernel)",
   "language": "python",
   "name": "python3"
  },
  "language_info": {
   "codemirror_mode": {
    "name": "ipython",
    "version": 3
   },
   "file_extension": ".py",
   "mimetype": "text/x-python",
   "name": "python",
   "nbconvert_exporter": "python",
   "pygments_lexer": "ipython3",
   "version": "3.10.9"
  }
 },
 "nbformat": 4,
 "nbformat_minor": 5
}
