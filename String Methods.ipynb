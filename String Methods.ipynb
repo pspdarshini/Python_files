{
 "cells": [
  {
   "cell_type": "markdown",
   "id": "89e45194",
   "metadata": {},
   "source": [
    "### ord() is a function whioch allows us to know the ASCII value of a character\n",
    "\n",
    "### String Methods are the functions which are already built in to work on string manipulation\n",
    "\n",
    "## String Methods\n",
    "\n",
    "* lower()-- converts alphabets in the string to lower case\n",
    "* upper()-- converts alphabets in the string to upper case\n",
    "* title() --- capitalizes first letter of every word\n",
    "* Capitalize()-- makes sure first letter is in upper case and rest of all are in lower case\n",
    "* title() --- capitalizes first letter of every word\n",
    "* casefold() ---works similar to lower () but casefold works based on unicodes where as lower () works on ASCII values.\n",
    "* Swapcase()---- converts upper to lower and lower to upper case\n",
    "* Count()--- it is going to return the count of substring occurances in the given string\n",
    "* find() --- it gives the index position of first occurancec of given character or sub string. if the given character or substring doesnt exist in the given string it returns -1\n",
    "* index()---it gives the index position of first occurancec of given character or sub string. if the given character or substring doesnt exist in the given string it shows an error\n",
    "* rfind() --- it gives the index position of first occurance of the given character or sub string from right hand side.if the given character or substring doesnt exist in the given string it returns -1\n",
    "* rindex() ----it gives the index position of first occurancec of given character or sub string from right hand side. if the given character or substring doesnt exist in the given string it shows an error\n",
    "* split() --- splits the string at given character  or substring and returns a list of all the substrings seperated by the spaces\n",
    "----\n"
   ]
  },
  {
   "cell_type": "code",
   "execution_count": 2,
   "id": "0f230ddc",
   "metadata": {},
   "outputs": [
    {
     "data": {
      "text/plain": [
       "(97, 65)"
      ]
     },
     "execution_count": 2,
     "metadata": {},
     "output_type": "execute_result"
    }
   ],
   "source": [
    "ord('a'),ord('A')"
   ]
  },
  {
   "cell_type": "code",
   "execution_count": 27,
   "id": "953bb429",
   "metadata": {},
   "outputs": [
    {
     "name": "stdout",
     "output_type": "stream",
     "text": [
      "HELLO\n",
      "string:dfghjk\n"
     ]
    },
    {
     "data": {
      "text/plain": [
       "'dfghjk\\x84\\x86\\x87\\x88\\x8a\\x8b'"
      ]
     },
     "execution_count": 27,
     "metadata": {},
     "output_type": "execute_result"
    }
   ],
   "source": [
    "x='hello'\n",
    "print (x.upper())\n",
    "# without string methods\n",
    "\n",
    "\n",
    "\n",
    "\n",
    "\n"
   ]
  },
  {
   "cell_type": "code",
   "execution_count": null,
   "id": "0ff04ac8",
   "metadata": {},
   "outputs": [],
   "source": []
  },
  {
   "cell_type": "code",
   "execution_count": 23,
   "id": "25e3c30d",
   "metadata": {},
   "outputs": [
    {
     "name": "stdout",
     "output_type": "stream",
     "text": [
      "['__add__', '__class__', '__contains__', '__delattr__', '__dir__', '__doc__', '__eq__', '__format__', '__ge__', '__getattribute__', '__getitem__', '__getnewargs__', '__gt__', '__hash__', '__init__', '__init_subclass__', '__iter__', '__le__', '__len__', '__lt__', '__mod__', '__mul__', '__ne__', '__new__', '__reduce__', '__reduce_ex__', '__repr__', '__rmod__', '__rmul__', '__setattr__', '__sizeof__', '__str__', '__subclasshook__', 'capitalize', 'casefold', 'center', 'count', 'encode', 'endswith', 'expandtabs', 'find', 'format', 'format_map', 'index', 'isalnum', 'isalpha', 'isascii', 'isdecimal', 'isdigit', 'isidentifier', 'islower', 'isnumeric', 'isprintable', 'isspace', 'istitle', 'isupper', 'join', 'ljust', 'lower', 'lstrip', 'maketrans', 'partition', 'removeprefix', 'removesuffix', 'replace', 'rfind', 'rindex', 'rjust', 'rpartition', 'rsplit', 'rstrip', 'split', 'splitlines', 'startswith', 'strip', 'swapcase', 'title', 'translate', 'upper', 'zfill']\n"
     ]
    }
   ],
   "source": [
    "print(dir(x))"
   ]
  },
  {
   "cell_type": "code",
   "execution_count": 18,
   "id": "36c1c916",
   "metadata": {},
   "outputs": [
    {
     "data": {
      "text/plain": [
       "'HELLO'"
      ]
     },
     "execution_count": 18,
     "metadata": {},
     "output_type": "execute_result"
    }
   ],
   "source": [
    "#strings are immutable as the manipulations/changes done to strings will be stored in a different memory location\n",
    "\n",
    "x= 'heLlo'\n",
    "x.upper()"
   ]
  },
  {
   "cell_type": "code",
   "execution_count": 22,
   "id": "86382e41",
   "metadata": {},
   "outputs": [
    {
     "name": "stdout",
     "output_type": "stream",
     "text": [
      "Help on class str in module builtins:\n",
      "\n",
      "class str(object)\n",
      " |  str(object='') -> str\n",
      " |  str(bytes_or_buffer[, encoding[, errors]]) -> str\n",
      " |  \n",
      " |  Create a new string object from the given object. If encoding or\n",
      " |  errors is specified, then the object must expose a data buffer\n",
      " |  that will be decoded using the given encoding and error handler.\n",
      " |  Otherwise, returns the result of object.__str__() (if defined)\n",
      " |  or repr(object).\n",
      " |  encoding defaults to sys.getdefaultencoding().\n",
      " |  errors defaults to 'strict'.\n",
      " |  \n",
      " |  Methods defined here:\n",
      " |  \n",
      " |  __add__(self, value, /)\n",
      " |      Return self+value.\n",
      " |  \n",
      " |  __contains__(self, key, /)\n",
      " |      Return key in self.\n",
      " |  \n",
      " |  __eq__(self, value, /)\n",
      " |      Return self==value.\n",
      " |  \n",
      " |  __format__(self, format_spec, /)\n",
      " |      Return a formatted version of the string as described by format_spec.\n",
      " |  \n",
      " |  __ge__(self, value, /)\n",
      " |      Return self>=value.\n",
      " |  \n",
      " |  __getattribute__(self, name, /)\n",
      " |      Return getattr(self, name).\n",
      " |  \n",
      " |  __getitem__(self, key, /)\n",
      " |      Return self[key].\n",
      " |  \n",
      " |  __getnewargs__(...)\n",
      " |  \n",
      " |  __gt__(self, value, /)\n",
      " |      Return self>value.\n",
      " |  \n",
      " |  __hash__(self, /)\n",
      " |      Return hash(self).\n",
      " |  \n",
      " |  __iter__(self, /)\n",
      " |      Implement iter(self).\n",
      " |  \n",
      " |  __le__(self, value, /)\n",
      " |      Return self<=value.\n",
      " |  \n",
      " |  __len__(self, /)\n",
      " |      Return len(self).\n",
      " |  \n",
      " |  __lt__(self, value, /)\n",
      " |      Return self<value.\n",
      " |  \n",
      " |  __mod__(self, value, /)\n",
      " |      Return self%value.\n",
      " |  \n",
      " |  __mul__(self, value, /)\n",
      " |      Return self*value.\n",
      " |  \n",
      " |  __ne__(self, value, /)\n",
      " |      Return self!=value.\n",
      " |  \n",
      " |  __repr__(self, /)\n",
      " |      Return repr(self).\n",
      " |  \n",
      " |  __rmod__(self, value, /)\n",
      " |      Return value%self.\n",
      " |  \n",
      " |  __rmul__(self, value, /)\n",
      " |      Return value*self.\n",
      " |  \n",
      " |  __sizeof__(self, /)\n",
      " |      Return the size of the string in memory, in bytes.\n",
      " |  \n",
      " |  __str__(self, /)\n",
      " |      Return str(self).\n",
      " |  \n",
      " |  capitalize(self, /)\n",
      " |      Return a capitalized version of the string.\n",
      " |      \n",
      " |      More specifically, make the first character have upper case and the rest lower\n",
      " |      case.\n",
      " |  \n",
      " |  casefold(self, /)\n",
      " |      Return a version of the string suitable for caseless comparisons.\n",
      " |  \n",
      " |  center(self, width, fillchar=' ', /)\n",
      " |      Return a centered string of length width.\n",
      " |      \n",
      " |      Padding is done using the specified fill character (default is a space).\n",
      " |  \n",
      " |  count(...)\n",
      " |      S.count(sub[, start[, end]]) -> int\n",
      " |      \n",
      " |      Return the number of non-overlapping occurrences of substring sub in\n",
      " |      string S[start:end].  Optional arguments start and end are\n",
      " |      interpreted as in slice notation.\n",
      " |  \n",
      " |  encode(self, /, encoding='utf-8', errors='strict')\n",
      " |      Encode the string using the codec registered for encoding.\n",
      " |      \n",
      " |      encoding\n",
      " |        The encoding in which to encode the string.\n",
      " |      errors\n",
      " |        The error handling scheme to use for encoding errors.\n",
      " |        The default is 'strict' meaning that encoding errors raise a\n",
      " |        UnicodeEncodeError.  Other possible values are 'ignore', 'replace' and\n",
      " |        'xmlcharrefreplace' as well as any other name registered with\n",
      " |        codecs.register_error that can handle UnicodeEncodeErrors.\n",
      " |  \n",
      " |  endswith(...)\n",
      " |      S.endswith(suffix[, start[, end]]) -> bool\n",
      " |      \n",
      " |      Return True if S ends with the specified suffix, False otherwise.\n",
      " |      With optional start, test S beginning at that position.\n",
      " |      With optional end, stop comparing S at that position.\n",
      " |      suffix can also be a tuple of strings to try.\n",
      " |  \n",
      " |  expandtabs(self, /, tabsize=8)\n",
      " |      Return a copy where all tab characters are expanded using spaces.\n",
      " |      \n",
      " |      If tabsize is not given, a tab size of 8 characters is assumed.\n",
      " |  \n",
      " |  find(...)\n",
      " |      S.find(sub[, start[, end]]) -> int\n",
      " |      \n",
      " |      Return the lowest index in S where substring sub is found,\n",
      " |      such that sub is contained within S[start:end].  Optional\n",
      " |      arguments start and end are interpreted as in slice notation.\n",
      " |      \n",
      " |      Return -1 on failure.\n",
      " |  \n",
      " |  format(...)\n",
      " |      S.format(*args, **kwargs) -> str\n",
      " |      \n",
      " |      Return a formatted version of S, using substitutions from args and kwargs.\n",
      " |      The substitutions are identified by braces ('{' and '}').\n",
      " |  \n",
      " |  format_map(...)\n",
      " |      S.format_map(mapping) -> str\n",
      " |      \n",
      " |      Return a formatted version of S, using substitutions from mapping.\n",
      " |      The substitutions are identified by braces ('{' and '}').\n",
      " |  \n",
      " |  index(...)\n",
      " |      S.index(sub[, start[, end]]) -> int\n",
      " |      \n",
      " |      Return the lowest index in S where substring sub is found,\n",
      " |      such that sub is contained within S[start:end].  Optional\n",
      " |      arguments start and end are interpreted as in slice notation.\n",
      " |      \n",
      " |      Raises ValueError when the substring is not found.\n",
      " |  \n",
      " |  isalnum(self, /)\n",
      " |      Return True if the string is an alpha-numeric string, False otherwise.\n",
      " |      \n",
      " |      A string is alpha-numeric if all characters in the string are alpha-numeric and\n",
      " |      there is at least one character in the string.\n",
      " |  \n",
      " |  isalpha(self, /)\n",
      " |      Return True if the string is an alphabetic string, False otherwise.\n",
      " |      \n",
      " |      A string is alphabetic if all characters in the string are alphabetic and there\n",
      " |      is at least one character in the string.\n",
      " |  \n",
      " |  isascii(self, /)\n",
      " |      Return True if all characters in the string are ASCII, False otherwise.\n",
      " |      \n",
      " |      ASCII characters have code points in the range U+0000-U+007F.\n",
      " |      Empty string is ASCII too.\n",
      " |  \n",
      " |  isdecimal(self, /)\n",
      " |      Return True if the string is a decimal string, False otherwise.\n",
      " |      \n",
      " |      A string is a decimal string if all characters in the string are decimal and\n",
      " |      there is at least one character in the string.\n",
      " |  \n",
      " |  isdigit(self, /)\n",
      " |      Return True if the string is a digit string, False otherwise.\n",
      " |      \n",
      " |      A string is a digit string if all characters in the string are digits and there\n",
      " |      is at least one character in the string.\n",
      " |  \n",
      " |  isidentifier(self, /)\n",
      " |      Return True if the string is a valid Python identifier, False otherwise.\n",
      " |      \n",
      " |      Call keyword.iskeyword(s) to test whether string s is a reserved identifier,\n",
      " |      such as \"def\" or \"class\".\n",
      " |  \n",
      " |  islower(self, /)\n",
      " |      Return True if the string is a lowercase string, False otherwise.\n",
      " |      \n",
      " |      A string is lowercase if all cased characters in the string are lowercase and\n",
      " |      there is at least one cased character in the string.\n",
      " |  \n",
      " |  isnumeric(self, /)\n",
      " |      Return True if the string is a numeric string, False otherwise.\n",
      " |      \n",
      " |      A string is numeric if all characters in the string are numeric and there is at\n",
      " |      least one character in the string.\n",
      " |  \n",
      " |  isprintable(self, /)\n",
      " |      Return True if the string is printable, False otherwise.\n",
      " |      \n",
      " |      A string is printable if all of its characters are considered printable in\n",
      " |      repr() or if it is empty.\n",
      " |  \n",
      " |  isspace(self, /)\n",
      " |      Return True if the string is a whitespace string, False otherwise.\n",
      " |      \n",
      " |      A string is whitespace if all characters in the string are whitespace and there\n",
      " |      is at least one character in the string.\n",
      " |  \n",
      " |  istitle(self, /)\n",
      " |      Return True if the string is a title-cased string, False otherwise.\n",
      " |      \n",
      " |      In a title-cased string, upper- and title-case characters may only\n",
      " |      follow uncased characters and lowercase characters only cased ones.\n",
      " |  \n",
      " |  isupper(self, /)\n",
      " |      Return True if the string is an uppercase string, False otherwise.\n",
      " |      \n",
      " |      A string is uppercase if all cased characters in the string are uppercase and\n",
      " |      there is at least one cased character in the string.\n",
      " |  \n",
      " |  join(self, iterable, /)\n",
      " |      Concatenate any number of strings.\n",
      " |      \n",
      " |      The string whose method is called is inserted in between each given string.\n",
      " |      The result is returned as a new string.\n",
      " |      \n",
      " |      Example: '.'.join(['ab', 'pq', 'rs']) -> 'ab.pq.rs'\n",
      " |  \n",
      " |  ljust(self, width, fillchar=' ', /)\n",
      " |      Return a left-justified string of length width.\n",
      " |      \n",
      " |      Padding is done using the specified fill character (default is a space).\n",
      " |  \n",
      " |  lower(self, /)\n",
      " |      Return a copy of the string converted to lowercase.\n",
      " |  \n",
      " |  lstrip(self, chars=None, /)\n",
      " |      Return a copy of the string with leading whitespace removed.\n",
      " |      \n",
      " |      If chars is given and not None, remove characters in chars instead.\n",
      " |  \n",
      " |  partition(self, sep, /)\n",
      " |      Partition the string into three parts using the given separator.\n",
      " |      \n",
      " |      This will search for the separator in the string.  If the separator is found,\n",
      " |      returns a 3-tuple containing the part before the separator, the separator\n",
      " |      itself, and the part after it.\n",
      " |      \n",
      " |      If the separator is not found, returns a 3-tuple containing the original string\n",
      " |      and two empty strings.\n",
      " |  \n",
      " |  removeprefix(self, prefix, /)\n",
      " |      Return a str with the given prefix string removed if present.\n",
      " |      \n",
      " |      If the string starts with the prefix string, return string[len(prefix):].\n",
      " |      Otherwise, return a copy of the original string.\n",
      " |  \n",
      " |  removesuffix(self, suffix, /)\n",
      " |      Return a str with the given suffix string removed if present.\n",
      " |      \n",
      " |      If the string ends with the suffix string and that suffix is not empty,\n",
      " |      return string[:-len(suffix)]. Otherwise, return a copy of the original\n",
      " |      string.\n",
      " |  \n",
      " |  replace(self, old, new, count=-1, /)\n",
      " |      Return a copy with all occurrences of substring old replaced by new.\n",
      " |      \n",
      " |        count\n",
      " |          Maximum number of occurrences to replace.\n",
      " |          -1 (the default value) means replace all occurrences.\n",
      " |      \n",
      " |      If the optional argument count is given, only the first count occurrences are\n",
      " |      replaced.\n",
      " |  \n",
      " |  rfind(...)\n",
      " |      S.rfind(sub[, start[, end]]) -> int\n",
      " |      \n",
      " |      Return the highest index in S where substring sub is found,\n",
      " |      such that sub is contained within S[start:end].  Optional\n",
      " |      arguments start and end are interpreted as in slice notation.\n",
      " |      \n",
      " |      Return -1 on failure.\n",
      " |  \n",
      " |  rindex(...)\n",
      " |      S.rindex(sub[, start[, end]]) -> int\n",
      " |      \n",
      " |      Return the highest index in S where substring sub is found,\n",
      " |      such that sub is contained within S[start:end].  Optional\n",
      " |      arguments start and end are interpreted as in slice notation.\n",
      " |      \n",
      " |      Raises ValueError when the substring is not found.\n",
      " |  \n",
      " |  rjust(self, width, fillchar=' ', /)\n",
      " |      Return a right-justified string of length width.\n",
      " |      \n",
      " |      Padding is done using the specified fill character (default is a space).\n",
      " |  \n",
      " |  rpartition(self, sep, /)\n",
      " |      Partition the string into three parts using the given separator.\n",
      " |      \n",
      " |      This will search for the separator in the string, starting at the end. If\n",
      " |      the separator is found, returns a 3-tuple containing the part before the\n",
      " |      separator, the separator itself, and the part after it.\n",
      " |      \n",
      " |      If the separator is not found, returns a 3-tuple containing two empty strings\n",
      " |      and the original string.\n",
      " |  \n",
      " |  rsplit(self, /, sep=None, maxsplit=-1)\n",
      " |      Return a list of the substrings in the string, using sep as the separator string.\n",
      " |      \n",
      " |        sep\n",
      " |          The separator used to split the string.\n",
      " |      \n",
      " |          When set to None (the default value), will split on any whitespace\n",
      " |          character (including \\\\n \\\\r \\\\t \\\\f and spaces) and will discard\n",
      " |          empty strings from the result.\n",
      " |        maxsplit\n",
      " |          Maximum number of splits (starting from the left).\n",
      " |          -1 (the default value) means no limit.\n",
      " |      \n",
      " |      Splitting starts at the end of the string and works to the front.\n",
      " |  \n",
      " |  rstrip(self, chars=None, /)\n",
      " |      Return a copy of the string with trailing whitespace removed.\n",
      " |      \n",
      " |      If chars is given and not None, remove characters in chars instead.\n",
      " |  \n",
      " |  split(self, /, sep=None, maxsplit=-1)\n",
      " |      Return a list of the substrings in the string, using sep as the separator string.\n",
      " |      \n",
      " |        sep\n",
      " |          The separator used to split the string.\n",
      " |      \n",
      " |          When set to None (the default value), will split on any whitespace\n",
      " |          character (including \\\\n \\\\r \\\\t \\\\f and spaces) and will discard\n",
      " |          empty strings from the result.\n",
      " |        maxsplit\n",
      " |          Maximum number of splits (starting from the left).\n",
      " |          -1 (the default value) means no limit.\n",
      " |      \n",
      " |      Note, str.split() is mainly useful for data that has been intentionally\n",
      " |      delimited.  With natural text that includes punctuation, consider using\n",
      " |      the regular expression module.\n",
      " |  \n",
      " |  splitlines(self, /, keepends=False)\n",
      " |      Return a list of the lines in the string, breaking at line boundaries.\n",
      " |      \n",
      " |      Line breaks are not included in the resulting list unless keepends is given and\n",
      " |      true.\n",
      " |  \n",
      " |  startswith(...)\n",
      " |      S.startswith(prefix[, start[, end]]) -> bool\n",
      " |      \n",
      " |      Return True if S starts with the specified prefix, False otherwise.\n",
      " |      With optional start, test S beginning at that position.\n",
      " |      With optional end, stop comparing S at that position.\n",
      " |      prefix can also be a tuple of strings to try.\n",
      " |  \n",
      " |  strip(self, chars=None, /)\n",
      " |      Return a copy of the string with leading and trailing whitespace removed.\n",
      " |      \n",
      " |      If chars is given and not None, remove characters in chars instead.\n",
      " |  \n",
      " |  swapcase(self, /)\n",
      " |      Convert uppercase characters to lowercase and lowercase characters to uppercase.\n",
      " |  \n",
      " |  title(self, /)\n",
      " |      Return a version of the string where each word is titlecased.\n",
      " |      \n",
      " |      More specifically, words start with uppercased characters and all remaining\n",
      " |      cased characters have lower case.\n",
      " |  \n",
      " |  translate(self, table, /)\n",
      " |      Replace each character in the string using the given translation table.\n",
      " |      \n",
      " |        table\n",
      " |          Translation table, which must be a mapping of Unicode ordinals to\n",
      " |          Unicode ordinals, strings, or None.\n",
      " |      \n",
      " |      The table must implement lookup/indexing via __getitem__, for instance a\n",
      " |      dictionary or list.  If this operation raises LookupError, the character is\n",
      " |      left untouched.  Characters mapped to None are deleted.\n",
      " |  \n",
      " |  upper(self, /)\n",
      " |      Return a copy of the string converted to uppercase.\n",
      " |  \n",
      " |  zfill(self, width, /)\n",
      " |      Pad a numeric string with zeros on the left, to fill a field of the given width.\n",
      " |      \n",
      " |      The string is never truncated.\n",
      " |  \n",
      " |  ----------------------------------------------------------------------\n",
      " |  Static methods defined here:\n",
      " |  \n",
      " |  __new__(*args, **kwargs) from builtins.type\n",
      " |      Create and return a new object.  See help(type) for accurate signature.\n",
      " |  \n",
      " |  maketrans(...)\n",
      " |      Return a translation table usable for str.translate().\n",
      " |      \n",
      " |      If there is only one argument, it must be a dictionary mapping Unicode\n",
      " |      ordinals (integers) or characters to Unicode ordinals, strings or None.\n",
      " |      Character keys will be then converted to ordinals.\n",
      " |      If there are two arguments, they must be strings of equal length, and\n",
      " |      in the resulting dictionary, each character in x will be mapped to the\n",
      " |      character at the same position in y. If there is a third argument, it\n",
      " |      must be a string, whose characters will be mapped to None in the result.\n",
      "\n"
     ]
    }
   ],
   "source": [
    "x= 'x1$ ahL'\n",
    "help(str)"
   ]
  },
  {
   "cell_type": "code",
   "execution_count": 28,
   "id": "4325f0e1",
   "metadata": {},
   "outputs": [
    {
     "name": "stdout",
     "output_type": "stream",
     "text": [
      "('Dr.Swathi Priyadarsini PUTTI', 644539317136)\n",
      "\n",
      "('dr.swathi priyadarsini putti', 644597216272)\n"
     ]
    }
   ],
   "source": [
    "# lower()-- converts alphabets in the string to lower case\n",
    "x= 'Dr.Swathi Priyadarsini PUTTI'\n",
    "y = x.lower()\n",
    "print((x,id(x)),(y,id(y)), sep ='\\n\\n')\n"
   ]
  },
  {
   "cell_type": "code",
   "execution_count": 29,
   "id": "08804f46",
   "metadata": {},
   "outputs": [
    {
     "name": "stdout",
     "output_type": "stream",
     "text": [
      "('Dr.Swathi Priyadarsini PUTTI', 644539811280)\n",
      "\n",
      "('DR.SWATHI PRIYADARSINI PUTTI', 644539317136)\n"
     ]
    }
   ],
   "source": [
    "# upper()-- converts alphabets in the string to upper case\n",
    "x= 'Dr.Swathi Priyadarsini PUTTI'\n",
    "y= x.upper()\n",
    "print((x,id(x)),(y,id(y)), sep ='\\n\\n')"
   ]
  },
  {
   "cell_type": "code",
   "execution_count": 34,
   "id": "78834c21",
   "metadata": {},
   "outputs": [
    {
     "name": "stdout",
     "output_type": "stream",
     "text": [
      "('dr.swathi priyadarsini putti', 644597091264)\n",
      "\n",
      "('Dr.swathi priyadarsini putti', 644597047792)\n"
     ]
    }
   ],
   "source": [
    "# Capitalize()-- makes sure first letter is in upper case and rest of all are in lower case \n",
    "x= 'dr.swathi priyadarsini putti'\n",
    "y = x.capitalize()\n",
    "print((x,id(x)),(y,id(y)), sep ='\\n\\n')\n"
   ]
  },
  {
   "cell_type": "code",
   "execution_count": 35,
   "id": "b7186ed6",
   "metadata": {},
   "outputs": [
    {
     "name": "stdout",
     "output_type": "stream",
     "text": [
      "('dr.swathi priyadarsini putti', 644596865168)\n",
      "\n",
      "('Dr.Swathi Priyadarsini Putti', 644597091264)\n"
     ]
    }
   ],
   "source": [
    "# title() --- capitalizes first letter of eevery word\n",
    "x= 'dr.swathi priyadarsini putti'\n",
    "y = x.title()\n",
    "print((x,id(x)),(y,id(y)), sep ='\\n\\n')"
   ]
  },
  {
   "cell_type": "code",
   "execution_count": 45,
   "id": "01427d96",
   "metadata": {},
   "outputs": [
    {
     "data": {
      "text/plain": [
       "'ä, ö, ü,strasse'"
      ]
     },
     "execution_count": 45,
     "metadata": {},
     "output_type": "execute_result"
    }
   ],
   "source": [
    "#casefold() ---works similar to lower () but casefold works based on unicodes where as lower () works on ASCII values.\n",
    "x= 'Ä, Ö, Ü,Straße'\n",
    "z= x.casefold()\n",
    "z\n",
    "\n"
   ]
  },
  {
   "cell_type": "code",
   "execution_count": 46,
   "id": "3d95af3b",
   "metadata": {},
   "outputs": [
    {
     "data": {
      "text/plain": [
       "'dR.sWATHI pRIYADARSINI pUTTI'"
      ]
     },
     "execution_count": 46,
     "metadata": {},
     "output_type": "execute_result"
    }
   ],
   "source": [
    "# Swapcase()---- converts upper to lower and lower to upper casee\n",
    "x='Dr.Swathi Priyadarsini Putti'\n",
    "z= x.swapcase()\n",
    "z"
   ]
  },
  {
   "cell_type": "code",
   "execution_count": 47,
   "id": "b8cc85cf",
   "metadata": {},
   "outputs": [
    {
     "data": {
      "text/plain": [
       "'ä, ö, ü,sTRASSE'"
      ]
     },
     "execution_count": 47,
     "metadata": {},
     "output_type": "execute_result"
    }
   ],
   "source": [
    "x= 'Ä, Ö, Ü,Straße'\n",
    "z= x.swapcase()\n",
    "z\n"
   ]
  },
  {
   "cell_type": "code",
   "execution_count": 2,
   "id": "ebfa5845",
   "metadata": {},
   "outputs": [
    {
     "data": {
      "text/plain": [
       "0"
      ]
     },
     "execution_count": 2,
     "metadata": {},
     "output_type": "execute_result"
    }
   ],
   "source": [
    "# Count()--- it is going to return the count of substring occurances in the given string\n",
    "x= 'dR.SWATHI pRIYADARSINI pUTTI'\n",
    "x.count('s')\n",
    "x.count('p')\n",
    "x.count('P',1,4)\n",
    "\n"
   ]
  },
  {
   "cell_type": "code",
   "execution_count": 5,
   "id": "b50a6a92",
   "metadata": {},
   "outputs": [
    {
     "name": "stdout",
     "output_type": "stream",
     "text": [
      "string:LAKSHYA\n"
     ]
    },
    {
     "data": {
      "text/plain": [
       "'lakshya'"
      ]
     },
     "execution_count": 5,
     "metadata": {},
     "output_type": "execute_result"
    }
   ],
   "source": [
    "# uppercase to lower case without string methods\n",
    "z =input(\"string:\")\n",
    "x=''\n",
    "for ele in z:\n",
    "    x+= chr(ord(ele)+32)\n",
    "x"
   ]
  },
  {
   "cell_type": "code",
   "execution_count": 9,
   "id": "fd191ed5",
   "metadata": {},
   "outputs": [
    {
     "name": "stdout",
     "output_type": "stream",
     "text": [
      "string:lakshya\n"
     ]
    },
    {
     "data": {
      "text/plain": [
       "'LAKSHYA'"
      ]
     },
     "execution_count": 9,
     "metadata": {},
     "output_type": "execute_result"
    }
   ],
   "source": [
    "# lower case to upper case without string methods\n",
    "z=input(\"string:\") \n",
    "x= ''\n",
    "for ele in z:\n",
    "    x+= chr(ord(ele)-32)\n",
    "x"
   ]
  },
  {
   "cell_type": "code",
   "execution_count": 22,
   "id": "c7e8cfe7",
   "metadata": {},
   "outputs": [
    {
     "ename": "SyntaxError",
     "evalue": "invalid syntax (2391629663.py, line 4)",
     "output_type": "error",
     "traceback": [
      "\u001b[1;36m  Cell \u001b[1;32mIn[22], line 4\u001b[1;36m\u001b[0m\n\u001b[1;33m    if\u001b[0m\n\u001b[1;37m       ^\u001b[0m\n\u001b[1;31mSyntaxError\u001b[0m\u001b[1;31m:\u001b[0m invalid syntax\n"
     ]
    }
   ],
   "source": [
    "z= input(\"string:\")\n",
    "x=''\n",
    "for ele in z:\n",
    "    if \n",
    "    ord(A) <= ord(ele) <= ord(Z)\n",
    "    x = chr(ord(ele)+32)\n",
    "    else \n",
    "    x = chr(ord(ele))\n",
    "    return(x)"
   ]
  },
  {
   "cell_type": "code",
   "execution_count": 11,
   "id": "f5d7981b",
   "metadata": {},
   "outputs": [
    {
     "data": {
      "text/plain": [
       "6"
      ]
     },
     "execution_count": 11,
     "metadata": {},
     "output_type": "execute_result"
    }
   ],
   "source": [
    "x= 'Good Morning Batch_242! You All Look Sleepy'\n",
    "x.find('Mo')\n",
    "x.rfind('o')\n",
    "\n",
    "# rfind searches from right hand side where as find starts it search from left hand side by default.\n",
    "# wee only get positive index for both find and rfind\n",
    "x.find('or',3)\n",
    "x.rfind('e',44)\n",
    "x.index('M')\n",
    "x.find('z') # will never show an error if z is not found in the given string.  it gives an output of -1\n",
    "x.index('M') # will give an error if z is not found in the string\n",
    "x.rindex('y')\n",
    "x.find('o'), x.find('z')\n",
    "x.find('o',3) # syntax : strobject.find('substring',start,end) "
   ]
  },
  {
   "cell_type": "code",
   "execution_count": 26,
   "id": "518accea",
   "metadata": {},
   "outputs": [
    {
     "data": {
      "text/plain": [
       "'good morning batch_242! you all look sleepy'"
      ]
     },
     "execution_count": 26,
     "metadata": {},
     "output_type": "execute_result"
    }
   ],
   "source": [
    "str.lower(x)\n",
    "x.lower()"
   ]
  },
  {
   "cell_type": "code",
   "execution_count": 16,
   "id": "89ac6fd7",
   "metadata": {},
   "outputs": [
    {
     "name": "stdout",
     "output_type": "stream",
     "text": [
      "25 34\n"
     ]
    }
   ],
   "source": [
    "print(x.rfind('o',0,32), x.rfind('o')) #starts searching from 32 till 0 index"
   ]
  },
  {
   "cell_type": "code",
   "execution_count": 20,
   "id": "f4ebd773",
   "metadata": {},
   "outputs": [
    {
     "name": "stdout",
     "output_type": "stream",
     "text": [
      "1 34\n"
     ]
    }
   ],
   "source": [
    "print(x.index('o',0,32), x.rindex('o'))\n",
    "# print(x.index('z')) Uncomment to see the error"
   ]
  },
  {
   "cell_type": "code",
   "execution_count": 22,
   "id": "ec216f4c",
   "metadata": {},
   "outputs": [
    {
     "data": {
      "text/plain": [
       "['Good', 'Morning', 'Batch_242!', 'You', 'All', 'Look', 'Sleepy']"
      ]
     },
     "execution_count": 22,
     "metadata": {},
     "output_type": "execute_result"
    }
   ],
   "source": [
    "xsplitatspace =x.split()\n",
    "xsplitatspace"
   ]
  },
  {
   "cell_type": "code",
   "execution_count": 24,
   "id": "b36b9887",
   "metadata": {},
   "outputs": [
    {
     "data": {
      "text/plain": [
       "(['G', '', 'd M', 'rning Batch_242! Y', 'u All L', '', 'k Sleepy'],\n",
       " ['Good Morning B', 'tch_242! You All Look Sleepy'])"
      ]
     },
     "execution_count": 24,
     "metadata": {},
     "output_type": "execute_result"
    }
   ],
   "source": [
    "x.split('o'), x.split('a')\n"
   ]
  },
  {
   "cell_type": "code",
   "execution_count": 25,
   "id": "0fac65d5",
   "metadata": {},
   "outputs": [
    {
     "data": {
      "text/plain": [
       "(['G', '', 'd M', 'rning Batch_242! Y', 'u All L', '', 'k Sleepy'],\n",
       " ['Good Morning B', 'tch_242! You All Look Sleepy'])"
      ]
     },
     "execution_count": 25,
     "metadata": {},
     "output_type": "execute_result"
    }
   ],
   "source": [
    "x.rsplit('o'), x.rsplit('a')\n"
   ]
  },
  {
   "cell_type": "code",
   "execution_count": 26,
   "id": "ec17e47e",
   "metadata": {},
   "outputs": [
    {
     "data": {
      "text/plain": [
       "['Good', 'Morning', 'Batch_242!', 'You', 'All', 'Look', 'Sleepy']"
      ]
     },
     "execution_count": 26,
     "metadata": {},
     "output_type": "execute_result"
    }
   ],
   "source": [
    "x.rsplit() # initiates the split from the right hand side"
   ]
  },
  {
   "cell_type": "code",
   "execution_count": 30,
   "id": "e6d2f585",
   "metadata": {},
   "outputs": [
    {
     "data": {
      "text/plain": [
       "['Good', 'Morning', 'Batch_242!', 'You All Look Sleepy']"
      ]
     },
     "execution_count": 30,
     "metadata": {},
     "output_type": "execute_result"
    }
   ],
   "source": [
    "x.split(' ',maxsplit=3)  # splits maximum at 3 places"
   ]
  },
  {
   "cell_type": "code",
   "execution_count": 29,
   "id": "a372180b",
   "metadata": {},
   "outputs": [
    {
     "data": {
      "text/plain": [
       "['Good Morning Batch_242! You All', 'Look', 'Sleepy']"
      ]
     },
     "execution_count": 29,
     "metadata": {},
     "output_type": "execute_result"
    }
   ],
   "source": [
    "x.rsplit(' ',maxsplit=2) # splits max at 2 locations from right side"
   ]
  },
  {
   "cell_type": "code",
   "execution_count": 34,
   "id": "a3cd027a",
   "metadata": {},
   "outputs": [
    {
     "data": {
      "text/plain": [
       "('Good', ' ', 'Morning Batch_242! You All Look Sleepy')"
      ]
     },
     "execution_count": 34,
     "metadata": {},
     "output_type": "execute_result"
    }
   ],
   "source": [
    "# partition and rpartition splits the string into exactly 3 parts / subsrtings and it reuturns a tupple\n",
    "x.partition(' ')\n"
   ]
  },
  {
   "cell_type": "code",
   "execution_count": 35,
   "id": "1da09f72",
   "metadata": {},
   "outputs": [
    {
     "data": {
      "text/plain": [
       "('Good Morning Batch_242! You All Look Sleepy', '', '')"
      ]
     },
     "execution_count": 35,
     "metadata": {},
     "output_type": "execute_result"
    }
   ],
   "source": [
    "x.partition('z')"
   ]
  },
  {
   "cell_type": "code",
   "execution_count": 36,
   "id": "531e68e1",
   "metadata": {},
   "outputs": [
    {
     "data": {
      "text/plain": [
       "('G', 'o', 'od Morning Batch_242! You All Look Sleepy')"
      ]
     },
     "execution_count": 36,
     "metadata": {},
     "output_type": "execute_result"
    }
   ],
   "source": [
    "x.partition('o')"
   ]
  },
  {
   "cell_type": "code",
   "execution_count": 38,
   "id": "932a1c82",
   "metadata": {},
   "outputs": [
    {
     "data": {
      "text/plain": [
       "('Good Morning Batch_242! You All Lo', 'o', 'k Sleepy')"
      ]
     },
     "execution_count": 38,
     "metadata": {},
     "output_type": "execute_result"
    }
   ],
   "source": [
    "x.rpartition('o')"
   ]
  },
  {
   "cell_type": "code",
   "execution_count": 39,
   "id": "eed861f5",
   "metadata": {},
   "outputs": [
    {
     "data": {
      "text/plain": [
       "('', '', 'Good Morning Batch_242! You All Look Sleepy')"
      ]
     },
     "execution_count": 39,
     "metadata": {},
     "output_type": "execute_result"
    }
   ],
   "source": [
    "x.rpartition('z')"
   ]
  },
  {
   "cell_type": "code",
   "execution_count": 40,
   "id": "21e47aa1",
   "metadata": {},
   "outputs": [],
   "source": [
    "# x.partition () Uncomment to see the error"
   ]
  },
  {
   "cell_type": "code",
   "execution_count": 43,
   "id": "741fc482",
   "metadata": {},
   "outputs": [
    {
     "data": {
      "text/plain": [
       "['How much wood would a woodchuck chuck if a woodchuck could chuck wood?',\n",
       " 'He would chuck, he would, as much as he could, ',\n",
       " 'and chuck as much wood as a woodchuck would',\n",
       " 'if a woodchuck could chuck wood.']"
      ]
     },
     "execution_count": 43,
     "metadata": {},
     "output_type": "execute_result"
    }
   ],
   "source": [
    "tt= '''How much wood would a woodchuck chuck if a woodchuck could chuck wood?\n",
    "He would chuck, he would, as much as he could, \n",
    "and chuck as much wood as a woodchuck would\n",
    "if a woodchuck could chuck wood.'''\n",
    "\n",
    "# splitlines ()--- it splits the strings on '\\n' and other end of the lines or breaks and returns a list\n",
    "tt.splitlines()"
   ]
  },
  {
   "cell_type": "code",
   "execution_count": null,
   "id": "f5eb310b",
   "metadata": {},
   "outputs": [],
   "source": [
    "#.join(<sequential data types/iterator>) we call it on a string not on the list"
   ]
  },
  {
   "cell_type": "code",
   "execution_count": 46,
   "id": "80a6631e",
   "metadata": {},
   "outputs": [
    {
     "data": {
      "text/plain": [
       "'GoodMorningBatch_242!YouAllLookSleepy'"
      ]
     },
     "execution_count": 46,
     "metadata": {},
     "output_type": "execute_result"
    }
   ],
   "source": [
    "''.join(xsplitatspace)"
   ]
  },
  {
   "cell_type": "code",
   "execution_count": 47,
   "id": "45ad1112",
   "metadata": {},
   "outputs": [
    {
     "data": {
      "text/plain": [
       "'Good Morning Batch_242! You All Look Sleepy'"
      ]
     },
     "execution_count": 47,
     "metadata": {},
     "output_type": "execute_result"
    }
   ],
   "source": [
    "' '.join(xsplitatspace)"
   ]
  },
  {
   "cell_type": "code",
   "execution_count": 48,
   "id": "8eb45ba0",
   "metadata": {},
   "outputs": [
    {
     "data": {
      "text/plain": [
       "'Good@Morning@Batch_242!@You@All@Look@Sleepy'"
      ]
     },
     "execution_count": 48,
     "metadata": {},
     "output_type": "execute_result"
    }
   ],
   "source": [
    "'@'.join(xsplitatspace)"
   ]
  },
  {
   "cell_type": "code",
   "execution_count": 49,
   "id": "eda368f0",
   "metadata": {},
   "outputs": [
    {
     "data": {
      "text/plain": [
       "'Hello world'"
      ]
     },
     "execution_count": 49,
     "metadata": {},
     "output_type": "execute_result"
    }
   ],
   "source": [
    "# strip(),lstrip(),rstrip()\n",
    "z ='*1#aHello worlda#*1'\n",
    "z.strip('*1#a')"
   ]
  },
  {
   "cell_type": "code",
   "execution_count": 51,
   "id": "5fe17bdc",
   "metadata": {},
   "outputs": [
    {
     "data": {
      "text/plain": [
       "'Hello* world'"
      ]
     },
     "execution_count": 51,
     "metadata": {},
     "output_type": "execute_result"
    }
   ],
   "source": [
    "z ='*1##Hello* worlda#*11' \n",
    "# strip search for each character given in () and strips them ,it will not search for the ordered sequence given in ()\n",
    "z.strip('*1#a')"
   ]
  },
  {
   "cell_type": "code",
   "execution_count": 61,
   "id": "a28bedf8",
   "metadata": {},
   "outputs": [
    {
     "data": {
      "text/plain": [
       "'      *1##Hello* worlda#*11      '"
      ]
     },
     "execution_count": 61,
     "metadata": {},
     "output_type": "execute_result"
    }
   ],
   "source": [
    "z.lstrip('1')"
   ]
  },
  {
   "cell_type": "code",
   "execution_count": 65,
   "id": "452470b2",
   "metadata": {},
   "outputs": [
    {
     "name": "stdout",
     "output_type": "stream",
     "text": [
      "      *1##Hello* worlda#*11\n",
      "*1##Hello* worlda#*11      \n"
     ]
    }
   ],
   "source": [
    "print(z.rstrip(),z.lstrip(),sep= '\\n')"
   ]
  },
  {
   "cell_type": "code",
   "execution_count": 57,
   "id": "1c2cdddd",
   "metadata": {},
   "outputs": [
    {
     "data": {
      "text/plain": [
       "'      *1##Hello* worlda#*11      '"
      ]
     },
     "execution_count": 57,
     "metadata": {},
     "output_type": "execute_result"
    }
   ],
   "source": [
    "z = '   '+z+'   '\n",
    "z"
   ]
  },
  {
   "cell_type": "code",
   "execution_count": 59,
   "id": "a0ce1dae",
   "metadata": {},
   "outputs": [
    {
     "data": {
      "text/plain": [
       "'*1##Hello* worlda#*11'"
      ]
     },
     "execution_count": 59,
     "metadata": {},
     "output_type": "execute_result"
    }
   ],
   "source": [
    "z.strip()"
   ]
  },
  {
   "cell_type": "code",
   "execution_count": 60,
   "id": "18c7ae28",
   "metadata": {},
   "outputs": [
    {
     "data": {
      "text/plain": [
       "'      *1##Hello* worlda#*11      '"
      ]
     },
     "execution_count": 60,
     "metadata": {},
     "output_type": "execute_result"
    }
   ],
   "source": [
    "z.rstrip('a')"
   ]
  },
  {
   "cell_type": "code",
   "execution_count": 76,
   "id": "77dc085a",
   "metadata": {},
   "outputs": [
    {
     "name": "stdout",
     "output_type": "stream",
     "text": [
      "hello 50\n",
      "@@@@@@@@@@@@@@@@@@@@@@hello@@@@@@@@@@@@@@@@@@@@@@@ 50\n"
     ]
    }
   ],
   "source": [
    "# centered,ljust(),rjust()\n",
    "x= 'hello'\n",
    "print(x.center(50),len(x.center(50))) # x is centered in a width of 50 \n",
    "print(x.center(50,'@'),len(x.center(50)))"
   ]
  },
  {
   "cell_type": "code",
   "execution_count": 75,
   "id": "71be2087",
   "metadata": {},
   "outputs": [
    {
     "name": "stdout",
     "output_type": "stream",
     "text": [
      "hello                    \n",
      "     hello\n"
     ]
    }
   ],
   "source": [
    "print(x.ljust(25),x.rjust(10),sep='\\n')"
   ]
  },
  {
   "cell_type": "code",
   "execution_count": 77,
   "id": "1148f1bd",
   "metadata": {},
   "outputs": [
    {
     "data": {
      "text/plain": [
       "'hello'"
      ]
     },
     "execution_count": 77,
     "metadata": {},
     "output_type": "execute_result"
    }
   ],
   "source": [
    "x.center(2)"
   ]
  },
  {
   "cell_type": "code",
   "execution_count": 81,
   "id": "cdb63070",
   "metadata": {},
   "outputs": [
    {
     "name": "stdout",
     "output_type": "stream",
     "text": [
      "0000000hello\n",
      "12\n"
     ]
    }
   ],
   "source": [
    "#zfill() instead of padding with spaces as center and just commands, it pads with zeros \n",
    "print(x.zfill(12),len(x.zfill(12)),sep='\\n')\n"
   ]
  },
  {
   "cell_type": "code",
   "execution_count": 85,
   "id": "a01f290b",
   "metadata": {},
   "outputs": [
    {
     "name": "stdout",
     "output_type": "stream",
     "text": [
      "Vamsi krishna\n",
      "Mr.Vamsi \n",
      "Mr.Vamsi krishna\n"
     ]
    }
   ],
   "source": [
    "#removesuffix ,removepreffix similar to lstrip and r strip but there the characters are considered for stripping and not the string,heree the string is considered\n",
    "print('Mr.Vamsi krishna'.removeprefix('Mr.'))\n",
    "\n",
    "print('Mr.Vamsi krishna'.removesuffix('krishna'))\n",
    "print('Mr.Vamsi krishna'.removeprefix(''))"
   ]
  },
  {
   "cell_type": "code",
   "execution_count": 88,
   "id": "69698ce5",
   "metadata": {},
   "outputs": [
    {
     "name": "stdout",
     "output_type": "stream",
     "text": [
      "False\n",
      "True\n"
     ]
    }
   ],
   "source": [
    "# startswith & endswith\n",
    "print(x.startswith('Go'), x.endswith('o'),sep=('\\n'))"
   ]
  },
  {
   "cell_type": "code",
   "execution_count": 1,
   "id": "138ec5ff",
   "metadata": {},
   "outputs": [
    {
     "data": {
      "text/plain": [
       "'isupper'"
      ]
     },
     "execution_count": 1,
     "metadata": {},
     "output_type": "execute_result"
    }
   ],
   "source": [
    "# explore and code with proper comments all the string methods which starts with 'is'\n",
    "'isalnum',\n",
    "'isalpha', \n",
    "'isascii', \n",
    "'isdecimal', \n",
    "'isdigit', \n",
    "'isidentifier',\n",
    "'islower', \n",
    "'isnumeric', \n",
    "'isprintable',\n",
    "'isspace', \n",
    "'istitle', \n",
    "'isupper'\n"
   ]
  },
  {
   "cell_type": "code",
   "execution_count": 6,
   "id": "e5e227b7",
   "metadata": {},
   "outputs": [
    {
     "name": "stdout",
     "output_type": "stream",
     "text": [
      "False True\n"
     ]
    }
   ],
   "source": [
    "# '''The isalnum() method is a string method in Python that checks whether all characters in a string are alphanumeric. \n",
    "# It returns True if all characters are alphanumeric, and False otherwise.\n",
    "\n",
    "x= '123@qwer'\n",
    "y='12345'\n",
    "print (x.isalnum(),y.isalnum())"
   ]
  },
  {
   "cell_type": "code",
   "execution_count": 7,
   "id": "2e9d66f7",
   "metadata": {},
   "outputs": [
    {
     "name": "stdout",
     "output_type": "stream",
     "text": [
      "False True\n"
     ]
    }
   ],
   "source": [
    "# The isalpha() method is a string method in Python that checks whether all characters in a string are alphabets. \n",
    "# It returns True if all characters are alphabets, and False otherwise.\n",
    "x= '123@qwer'\n",
    "y='swathi'\n",
    "print(x.isalpha(),y.isalpha())"
   ]
  },
  {
   "cell_type": "code",
   "execution_count": 9,
   "id": "0ae0b1ad",
   "metadata": {},
   "outputs": [
    {
     "name": "stdout",
     "output_type": "stream",
     "text": [
      "True False\n"
     ]
    }
   ],
   "source": [
    "# The isascii() method is a string method in Python that checks whether all characters in a string are ASCII characters. \n",
    "# It returns True if all characters are ASCII, and False otherwise.\n",
    "x='123dfr&'\n",
    "y='Umlaut ä, ü, ö, ß'\n",
    "print(x.isascii(),y.isascii())"
   ]
  },
  {
   "cell_type": "code",
   "execution_count": 12,
   "id": "6189e958",
   "metadata": {},
   "outputs": [
    {
     "name": "stdout",
     "output_type": "stream",
     "text": [
      "False False False\n"
     ]
    }
   ],
   "source": [
    "# The isdecimal() method is a string method in Python that checks whether all characters in a string are decimal characters. \n",
    "# It returns True if all characters are decimal digits (0-9), and False otherwise.\n",
    "x='swathi'\n",
    "y='2345 1/4' # isdecimal() doesnt consider float or anyother fractions\n",
    "z='13.456'\n",
    "print(x.isdecimal(),y.isdecimal(),z.isdecimal())"
   ]
  },
  {
   "cell_type": "code",
   "execution_count": 11,
   "id": "d4b6dd98",
   "metadata": {},
   "outputs": [
    {
     "name": "stdout",
     "output_type": "stream",
     "text": [
      "False True False\n"
     ]
    }
   ],
   "source": [
    "# The isdigit() method is a string method in Python that checks whether all characters in a string are digits. \n",
    "#It returns True if all characters are numeric digits (0-9), and False otherwise.\n",
    "x='3.4'\n",
    "y='1234 1/4' # isdigit() considers fractions, superscripts and subscripts\n",
    "z='a123erd'\n",
    "print(x.isdigit(),y.isdigit(),z.isdigit())"
   ]
  },
  {
   "cell_type": "code",
   "execution_count": 17,
   "id": "7e22bf8b",
   "metadata": {},
   "outputs": [
    {
     "name": "stdout",
     "output_type": "stream",
     "text": [
      "True True False\n"
     ]
    }
   ],
   "source": [
    "# isidentifier(): This method checks whether a string is a valid identifier in Python. \n",
    "# It returns True if the string is a valid identifier, and False otherwise.\n",
    "# An identifier is a sequence of letters, digits, and underscores, starting with a letter or an underscore,\n",
    "# and cannot be a reserved word. \n",
    "x='my_home123'\n",
    "y='swathi'\n",
    "z='_swathi@123'\n",
    "print(x.isidentifier(),y.isidentifier(),z.isidentifier())"
   ]
  },
  {
   "cell_type": "code",
   "execution_count": 18,
   "id": "362455dc",
   "metadata": {},
   "outputs": [
    {
     "name": "stdout",
     "output_type": "stream",
     "text": [
      "False True False\n"
     ]
    }
   ],
   "source": [
    "# islower(): This method checks whether all characters in a string are lowercase. \n",
    "#It returns True if all characters are lowercase, and False otherwise\n",
    "x='LAKSHYA PRIYADARSINI'\n",
    "Y='hanvika krishna'\n",
    "z='vAMSI krishna'\n",
    "print(x.islower(),y.islower(),z.islower())"
   ]
  },
  {
   "cell_type": "code",
   "execution_count": 19,
   "id": "92775882",
   "metadata": {},
   "outputs": [
    {
     "name": "stdout",
     "output_type": "stream",
     "text": [
      "True False\n"
     ]
    }
   ],
   "source": [
    "# isnumeric(): This method checks whether all characters in a string are numeric.\n",
    "# It returns True if all characters are numeric, and False otherwise. \n",
    "#It includes characters from various scripts that are considered numeric.\n",
    "x='12346789'\n",
    "y='swa@1234rdvhcj'\n",
    "print(x.isnumeric(),y.isnumeric())\n",
    "\n"
   ]
  },
  {
   "cell_type": "code",
   "execution_count": 23,
   "id": "4b3cebbb",
   "metadata": {},
   "outputs": [
    {
     "name": "stdout",
     "output_type": "stream",
     "text": [
      "False True False\n"
     ]
    }
   ],
   "source": [
    "# isprintable(): This method checks whether all characters in a string are printable. \n",
    "# It returns True if all characters are printable, and False otherwise.\n",
    "# Printable characters include alphanumeric characters, symbols, and whitespace.\n",
    "x='Hello world!!\\t'\n",
    "y= 'Dr.Swathiä, ü, ö, ß '\n",
    "z= 'Dr Swathi\\n'\n",
    "print(x.isprintable(),y.isprintable(),z.isprintable())"
   ]
  },
  {
   "cell_type": "code",
   "execution_count": 24,
   "id": "847c0cb5",
   "metadata": {},
   "outputs": [
    {
     "name": "stdout",
     "output_type": "stream",
     "text": [
      "True False False\n",
      "False False True\n"
     ]
    }
   ],
   "source": [
    "#istitle(): This method checks whether a string follows titlecase capitalization. \n",
    "# It returns True if the string is in titlecase format, and False otherwise. \n",
    "#A string is considered to be in titlecase if all words start with an uppercase letter and the remaining characters are lowercase.\n",
    "x= 'Seismic Hazard Assesment'\n",
    "y='seismic hazard assessment'\n",
    "z= 'SEISMIC HAZARD ASSESSMENT'\n",
    "# isupper() is a string method which checks if all the characters given in the string are in uppercase \n",
    "# it returns a true if all aree in uppercase and false even if single character is in lowercase\n",
    "print(x.istitle(),y.istitle(),z.istitle())\n",
    "print(x.isupper(),y.isupper(),z.isupper())\n"
   ]
  },
  {
   "cell_type": "code",
   "execution_count": 25,
   "id": "521d676c",
   "metadata": {},
   "outputs": [
    {
     "name": "stdout",
     "output_type": "stream",
     "text": [
      "True True False\n"
     ]
    }
   ],
   "source": [
    "# isspace(): This method checks whether all characters in a string are whitespace characters. \n",
    "# It returns True if all characters are whitespace, and False otherwise. \n",
    "# Whitespace characters include spaces, tabs, newlines, etc.\n",
    "x='  \\t '\n",
    "z='swa  thi'\n",
    "y=' \\n'\n",
    "print(x.isspace(),y.isspace(),z.isspace())"
   ]
  },
  {
   "cell_type": "code",
   "execution_count": null,
   "id": "06b4cacf",
   "metadata": {},
   "outputs": [],
   "source": []
  }
 ],
 "metadata": {
  "kernelspec": {
   "display_name": "Python 3 (ipykernel)",
   "language": "python",
   "name": "python3"
  },
  "language_info": {
   "codemirror_mode": {
    "name": "ipython",
    "version": 3
   },
   "file_extension": ".py",
   "mimetype": "text/x-python",
   "name": "python",
   "nbconvert_exporter": "python",
   "pygments_lexer": "ipython3",
   "version": "3.10.9"
  }
 },
 "nbformat": 4,
 "nbformat_minor": 5
}
